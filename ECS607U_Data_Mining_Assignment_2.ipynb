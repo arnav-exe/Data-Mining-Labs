{
  "nbformat": 4,
  "nbformat_minor": 0,
  "metadata": {
    "colab": {
      "provenance": [],
      "authorship_tag": "ABX9TyOH36rG0ku94nASPAxp7kiv",
      "include_colab_link": true
    },
    "kernelspec": {
      "name": "python3",
      "display_name": "Python 3"
    },
    "language_info": {
      "name": "python"
    }
  },
  "cells": [
    {
      "cell_type": "markdown",
      "metadata": {
        "id": "view-in-github",
        "colab_type": "text"
      },
      "source": [
        "<a href=\"https://colab.research.google.com/github/arnav-exe/Data-Mining-Labs/blob/main/ECS607U_Data_Mining_Assignment_2.ipynb\" target=\"_parent\"><img src=\"https://colab.research.google.com/assets/colab-badge.svg\" alt=\"Open In Colab\"/></a>"
      ]
    },
    {
      "cell_type": "code",
      "execution_count": 3,
      "metadata": {
        "id": "TuZEPOw4nRXm"
      },
      "outputs": [],
      "source": [
        "import pandas as pd\n",
        "import random"
      ]
    },
    {
      "cell_type": "markdown",
      "source": [
        "TASK 1"
      ],
      "metadata": {
        "id": "nvEPqVr4n5RJ"
      }
    },
    {
      "cell_type": "code",
      "source": [
        "def kulczynski_measure_calc(f_itemset, antecedent, consequent): # f_itemset = frequent_itemset\n",
        "  antecedent_support = f_itemset[f_itemset['itemset'] == antecedent]['support'].values[0]\n",
        "  consequent_support = f_itemset[f_itemset[\"itemset\"] == consequent][\"support\"].values[0]\n",
        "\n",
        "  kulczynski_measure = 0.5 * (antecedent_support + consequent_support)\n",
        "\n",
        "  return kulczynski_measure"
      ],
      "metadata": {
        "id": "DrG26HDVn4Vy"
      },
      "execution_count": 2,
      "outputs": []
    },
    {
      "cell_type": "code",
      "source": [
        "# Function to generate random frequent itemsets and their support\n",
        "def generate_test_data(num_itemsets):\n",
        "    data = []\n",
        "    for i in range(num_itemsets):\n",
        "        itemset = frozenset(random.sample(range(1, 10), random.randint(1, 3)))\n",
        "        support = round(random.uniform(0.1, 0.9), 2)\n",
        "        data.append({'itemset': itemset, 'support': support})\n",
        "    return pd.DataFrame(data)\n",
        "\n",
        "# Generate test data with 10 frequent itemsets\n",
        "frequent_itemsets = generate_test_data(10)\n",
        "\n",
        "# Display the generated test data\n",
        "print(\"Generated Test Data:\")\n",
        "print(frequent_itemsets)\n",
        "\n",
        "# Choose a random association rule for testing\n",
        "random_rule_antecedents = frozenset(random.sample(range(1, 10), random.randint(1, 2)))\n",
        "random_rule_consequents = frozenset(random.sample(range(1, 10), random.randint(1, 2)))\n",
        "\n",
        "# Calculate the Kulczynski measure for the random association rule\n",
        "kulczynski_measure = kulczynski_measure_calc(frequent_itemsets, random_rule_antecedents, random_rule_consequents)\n",
        "\n",
        "# Display the results\n",
        "print(\"\\nRandom Association Rule:\")\n",
        "print(\"Antecedents:\", random_rule_antecedents)\n",
        "print(\"Consequents:\", random_rule_consequents)\n",
        "print(\"Kulczynski Measure:\", kulczynski_measure)"
      ],
      "metadata": {
        "colab": {
          "base_uri": "https://localhost:8080/",
          "height": 598
        },
        "id": "3L5cYF2PoYHL",
        "outputId": "26bcc8d2-eed1-42f3-8841-439c93e40ac9"
      },
      "execution_count": 5,
      "outputs": [
        {
          "output_type": "stream",
          "name": "stdout",
          "text": [
            "Generated Test Data:\n",
            "     itemset  support\n",
            "0  (9, 3, 6)     0.87\n",
            "1        (4)     0.33\n",
            "2  (8, 3, 5)     0.61\n",
            "3     (1, 3)     0.48\n",
            "4        (9)     0.19\n",
            "5        (1)     0.43\n",
            "6        (1)     0.54\n",
            "7        (2)     0.23\n",
            "8        (9)     0.10\n",
            "9        (1)     0.83\n"
          ]
        },
        {
          "output_type": "error",
          "ename": "IndexError",
          "evalue": "ignored",
          "traceback": [
            "\u001b[0;31m---------------------------------------------------------------------------\u001b[0m",
            "\u001b[0;31mIndexError\u001b[0m                                Traceback (most recent call last)",
            "\u001b[0;32m<ipython-input-5-0c1096d5d48c>\u001b[0m in \u001b[0;36m<cell line: 22>\u001b[0;34m()\u001b[0m\n\u001b[1;32m     20\u001b[0m \u001b[0;34m\u001b[0m\u001b[0m\n\u001b[1;32m     21\u001b[0m \u001b[0;31m# Calculate the Kulczynski measure for the random association rule\u001b[0m\u001b[0;34m\u001b[0m\u001b[0;34m\u001b[0m\u001b[0m\n\u001b[0;32m---> 22\u001b[0;31m \u001b[0mkulczynski_measure\u001b[0m \u001b[0;34m=\u001b[0m \u001b[0mkulczynski_measure_calc\u001b[0m\u001b[0;34m(\u001b[0m\u001b[0mfrequent_itemsets\u001b[0m\u001b[0;34m,\u001b[0m \u001b[0mrandom_rule_antecedents\u001b[0m\u001b[0;34m,\u001b[0m \u001b[0mrandom_rule_consequents\u001b[0m\u001b[0;34m)\u001b[0m\u001b[0;34m\u001b[0m\u001b[0;34m\u001b[0m\u001b[0m\n\u001b[0m\u001b[1;32m     23\u001b[0m \u001b[0;34m\u001b[0m\u001b[0m\n\u001b[1;32m     24\u001b[0m \u001b[0;31m# Display the results\u001b[0m\u001b[0;34m\u001b[0m\u001b[0;34m\u001b[0m\u001b[0m\n",
            "\u001b[0;32m<ipython-input-2-6ed8ed7c25b7>\u001b[0m in \u001b[0;36mkulczynski_measure_calc\u001b[0;34m(f_itemset, antecedent, consequent)\u001b[0m\n\u001b[1;32m      1\u001b[0m \u001b[0;32mdef\u001b[0m \u001b[0mkulczynski_measure_calc\u001b[0m\u001b[0;34m(\u001b[0m\u001b[0mf_itemset\u001b[0m\u001b[0;34m,\u001b[0m \u001b[0mantecedent\u001b[0m\u001b[0;34m,\u001b[0m \u001b[0mconsequent\u001b[0m\u001b[0;34m)\u001b[0m\u001b[0;34m:\u001b[0m \u001b[0;31m# f_itemset = frequent_itemset\u001b[0m\u001b[0;34m\u001b[0m\u001b[0;34m\u001b[0m\u001b[0m\n\u001b[1;32m      2\u001b[0m   \u001b[0mantecedent_support\u001b[0m \u001b[0;34m=\u001b[0m \u001b[0mf_itemset\u001b[0m\u001b[0;34m[\u001b[0m\u001b[0mf_itemset\u001b[0m\u001b[0;34m[\u001b[0m\u001b[0;34m'itemset'\u001b[0m\u001b[0;34m]\u001b[0m \u001b[0;34m==\u001b[0m \u001b[0mantecedent\u001b[0m\u001b[0;34m]\u001b[0m\u001b[0;34m[\u001b[0m\u001b[0;34m'support'\u001b[0m\u001b[0;34m]\u001b[0m\u001b[0;34m.\u001b[0m\u001b[0mvalues\u001b[0m\u001b[0;34m[\u001b[0m\u001b[0;36m0\u001b[0m\u001b[0;34m]\u001b[0m\u001b[0;34m\u001b[0m\u001b[0;34m\u001b[0m\u001b[0m\n\u001b[0;32m----> 3\u001b[0;31m   \u001b[0mconsequent_support\u001b[0m \u001b[0;34m=\u001b[0m \u001b[0mf_itemset\u001b[0m\u001b[0;34m[\u001b[0m\u001b[0mf_itemset\u001b[0m\u001b[0;34m[\u001b[0m\u001b[0;34m\"itemset\"\u001b[0m\u001b[0;34m]\u001b[0m \u001b[0;34m==\u001b[0m \u001b[0mconsequent\u001b[0m\u001b[0;34m]\u001b[0m\u001b[0;34m[\u001b[0m\u001b[0;34m\"support\"\u001b[0m\u001b[0;34m]\u001b[0m\u001b[0;34m.\u001b[0m\u001b[0mvalues\u001b[0m\u001b[0;34m[\u001b[0m\u001b[0;36m0\u001b[0m\u001b[0;34m]\u001b[0m\u001b[0;34m\u001b[0m\u001b[0;34m\u001b[0m\u001b[0m\n\u001b[0m\u001b[1;32m      4\u001b[0m \u001b[0;34m\u001b[0m\u001b[0m\n\u001b[1;32m      5\u001b[0m   \u001b[0mkulczynski_measure\u001b[0m \u001b[0;34m=\u001b[0m \u001b[0;36m0.5\u001b[0m \u001b[0;34m*\u001b[0m \u001b[0;34m(\u001b[0m\u001b[0mantecedent_support\u001b[0m \u001b[0;34m+\u001b[0m \u001b[0mconsequent_support\u001b[0m\u001b[0;34m)\u001b[0m\u001b[0;34m\u001b[0m\u001b[0;34m\u001b[0m\u001b[0m\n",
            "\u001b[0;31mIndexError\u001b[0m: index 0 is out of bounds for axis 0 with size 0"
          ]
        }
      ]
    }
  ]
}