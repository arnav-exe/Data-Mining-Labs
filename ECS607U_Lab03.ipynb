{
  "nbformat": 4,
  "nbformat_minor": 0,
  "metadata": {
    "kernelspec": {
      "display_name": "Python 3",
      "language": "python",
      "name": "python3"
    },
    "language_info": {
      "codemirror_mode": {
        "name": "ipython",
        "version": 3
      },
      "file_extension": ".py",
      "mimetype": "text/x-python",
      "name": "python",
      "nbconvert_exporter": "python",
      "pygments_lexer": "ipython3",
      "version": "3.7.4"
    },
    "colab": {
      "provenance": [],
      "include_colab_link": true
    }
  },
  "cells": [
    {
      "cell_type": "markdown",
      "metadata": {
        "id": "view-in-github",
        "colab_type": "text"
      },
      "source": [
        "<a href=\"https://colab.research.google.com/github/arnav-exe/Data-Mining-Labs/blob/main/ECS607U_Lab03.ipynb\" target=\"_parent\"><img src=\"https://colab.research.google.com/assets/colab-badge.svg\" alt=\"Open In Colab\"/></a>"
      ]
    },
    {
      "cell_type": "markdown",
      "metadata": {
        "id": "7PmY8Xcqp0xy"
      },
      "source": [
        "# Lab session 3: Data Exploration and Visualisation"
      ]
    },
    {
      "cell_type": "markdown",
      "metadata": {
        "id": "5KR7EQbYp0x0"
      },
      "source": [
        "## Introduction\n",
        "\n",
        "The aim of this lab (Lab session 3) is for students to get experience with **Data Exploration** and **Data Visualisation**, both covered in lecture 4, by using typical Python libraries.\n",
        "\n",
        "\n",
        "This session starts with a tutorial that uses examples to introduce you to the practical knowledge that you will need for the corresponding assignment. We highly recommend that you read the following tutorials if you need a gentler introduction to the libraries that we use:\n",
        "- [Numpy quickstart tutorial](https://numpy.org/devdocs/user/quickstart.html)\n",
        "- [Numpy: basic broadcasting](https://numpy.org/doc/stable/user/basics.broadcasting.html)\n",
        "- [Pandas](https://pandas.pydata.org/pandas-docs/stable/user_guide/10min.html)\n",
        "- [Matplotlib](https://matplotlib.org/tutorials/introductory/pyplot.html)\n",
        "- [Seaborn](https://seaborn.pydata.org/tutorial/relational.html)\n",
        "- [Scikit-learn](https://scikit-learn.org/stable/tutorial/basic/tutorial.html)\n",
        "\n"
      ]
    },
    {
      "cell_type": "markdown",
      "metadata": {
        "id": "_1Oo7pF1p0x3"
      },
      "source": [
        "## 1 Exploring and visualising the graduation rate dataset\n",
        "\n",
        "\n",
        "In order to present typical Python functionalities for data exploration and data visualisation, we will use the graduation rate dataset (http://roycekimmons.com/tools/generated_data) as part of a working example.\n",
        "\n",
        "Note that this is a **synthetic** dataset that presents a familiar setting for the sake of simplicity. Therefore, this dataset should not be used to draw conclusions about students in the real world."
      ]
    },
    {
      "cell_type": "markdown",
      "metadata": {
        "id": "AZ8fmvzJp0x3"
      },
      "source": [
        "### 1.1 Loading the graduation rate dataset\n",
        "\n",
        "The graduation rate dataset is stored in a file called ``graduation_rate.csv``, which can be found together with this notebook. You can inspect this file using any text editor. The file contains 1001 lines. The first line contains the name of the features, separated by commas. The remaining lines contain one observation per line. The values for the features of each observation are also separated by lines.\n",
        "\n",
        "The library ``pandas`` has a convenient function called ``read_csv``, which expects a file that follows the convention described above. This function returns a ``DataFrame``, which represents the data set.\n",
        "\n",
        "The function ``display`` used within a notebook is similar to the Python function ``print``, but presents a ``DataFrame`` in a much more convenient format. By default, only the first five rows and the last five rows of a large ``DataFrame`` are shown.\n",
        "\n",
        "This initial inspection reveals that most features are numerical, except for the feature ``parental level of education``, which has multiple text values. In order to display the valid values for this feature, we select the corresponding column from the ``DataFrame``, and use the method ``Series.unique``. This method returns the unique values across a ``Series``."
      ]
    },
    {
      "cell_type": "code",
      "metadata": {
        "id": "OotsuBaqp0x5"
      },
      "source": [
        "# Loading dataset (http://roycekimmons.com/tools/generated_data)\n",
        "import pandas as pd\n",
        "\n",
        "df = pd.read_csv('graduation_rate.csv')\n",
        "\n",
        "print('Dataset (head and tail):')\n",
        "display(df)\n",
        "\n",
        "print('\\nParental levels of education:')\n",
        "print(df['parental level of education'].unique())\n"
      ],
      "execution_count": null,
      "outputs": []
    },
    {
      "cell_type": "markdown",
      "metadata": {
        "id": "slCKCMOxp0x6"
      },
      "source": [
        "### 1.2 Pre-processing features\n",
        "\n",
        "In order to establish a natural ordering over ``parental level of education``, the corresponding column of the ``DataFrame`` is substituted by a column of ordinal features created using the function ``pd.Categorical``."
      ]
    },
    {
      "cell_type": "code",
      "metadata": {
        "id": "gnGYX8YXp0x6"
      },
      "source": [
        "education_order = ['some high school', 'high school', 'some college', \"associate's degree\", \"bachelor's degree\", \"master's degree\"]\n",
        "\n",
        "df['parental level of education'] = pd.Categorical(df['parental level of education'],\n",
        "                                                   ordered=True,\n",
        "                                                   categories=education_order)\n",
        "\n",
        "display(df['parental level of education'])"
      ],
      "execution_count": null,
      "outputs": []
    },
    {
      "cell_type": "markdown",
      "metadata": {
        "id": "fsQQJ-a0p0x6"
      },
      "source": [
        "### 1.3 Data summarisation\n",
        "\n",
        "The method ``DataFrame.describe`` can be used to compute most of the univariate summaries that we have covered during the lectures. For each feature, this method computes the mean, standard deviation, minimum, maximum, median, lower quartile, and upper quartile.\n",
        "\n",
        "Note that ``DataFrame.describe`` detects and omits the categorical feature ``parental level of education``, since those summaries would not be useful. Instead, it is possible to use the method ``Series.value_counts`` to derive the frequency of each value of this feature.\n",
        "\n",
        "The method ``DataFrame.corr`` can be used to compute the correlation matrix for the (numerical) features in the dataset."
      ]
    },
    {
      "cell_type": "code",
      "metadata": {
        "id": "0RCUorfNp0x7"
      },
      "source": [
        "print('Univariate summaries:')\n",
        "display(df.describe())\n",
        "print(\"Frequency of parental levels of education:\")\n",
        "\n",
        "# relative frequency by dividing with len(df)\n",
        "freq_education = df['parental level of education'].value_counts()/len(df)\n",
        "display(freq_education)\n",
        "\n",
        "print(\"\\nCorrelation coefficients:\")\n",
        "display(df.corr())"
      ],
      "execution_count": null,
      "outputs": []
    },
    {
      "cell_type": "markdown",
      "metadata": {
        "id": "oa7jaRI5p0x7"
      },
      "source": [
        "### 1.4 Table visualisation\n",
        "\n",
        "The method ``DataFrame.sort_values`` can be used to sort the rows of a ``DataFrame`` by the value of a specific feature, in ascending or descending order. For instance, we can use this method to sort students by ``college gpa``.\n",
        "\n",
        "We can also use **slicing** to select a range of observations from a ``DataFrame``. For example, we may sort the students by increasing ``parental income`` and then select the first ten students (with the lowest ``parental income``).\n",
        "\n",
        "When a ``DataFrame`` is indexed by a list of boolean values that has as many elements as the ``DataFrame`` has rows, only the rows that correspond to ``True`` values are returned. This also works when the list used for indexing is represented by a ``Series``. This functionality can be used to select rows that pass a test based on their features. For example, we may use it to select the students whose parents are educated beyond high school.\n",
        "\n",
        "The method ``DataFrame.groupby`` provides a simple way to partition observations into groups based on the value of chosen categorical features (for example, ``parental level of education``) and operating independently on each group (for example, computing the mean of the numerical features independently for each group)."
      ]
    },
    {
      "cell_type": "code",
      "metadata": {
        "id": "KbAXorWZp0x8"
      },
      "source": [
        "#print(df.to_latex()) # Print a table for use with LaTeX\n",
        "print('Sorting by college gpa:')\n",
        "display(df.sort_values(by='college gpa', ascending=False))\n",
        "\n",
        "print('Selecting the ten students with lowest parental income :')\n",
        "display(df.sort_values(by='parental income', ascending=True)[0:10])\n",
        "\n",
        "print('Sorting by high school gpa the students whose parents are educated beyond high school')\n",
        "# Note that a boolean sequence can be used to index a DataFrame\n",
        "display(df[df['parental level of education'] > 'high school'].sort_values(by='high school gpa', ascending=False))\n",
        "\n",
        "print('Grouping by parental level of education and computing the mean for other features:')\n",
        "display(df.groupby('parental level of education').mean())"
      ],
      "execution_count": null,
      "outputs": []
    },
    {
      "cell_type": "markdown",
      "metadata": {
        "id": "1xG8nNhJp0x8"
      },
      "source": [
        "### 1.5 Histograms\n",
        "\n",
        "The library ``seaborn`` provides a high-level interface for drawing appealing graphics using ``matplotlib``.\n",
        "\n",
        "The following snippet is used to configure the appearance of ``seaborn`` graphics in this notebook."
      ]
    },
    {
      "cell_type": "code",
      "metadata": {
        "id": "wY3eDA5Pp0x8"
      },
      "source": [
        "%config InlineBackend.figure_formats = set(['retina'])\n",
        "\n",
        "import seaborn as sns\n",
        "import matplotlib.pyplot as plt\n",
        "\n",
        "sns.set_style('darkgrid')"
      ],
      "execution_count": null,
      "outputs": []
    },
    {
      "cell_type": "markdown",
      "metadata": {
        "id": "sbcc1O_dp0x8"
      },
      "source": [
        "The function ``distplot`` can be used to create a histogram with a specified number of bins for a given column of a ``DataFrame`` (or any list of numbers). For example, it may be used to create a histogram of ``high school gpa`` and ``college gpa``."
      ]
    },
    {
      "cell_type": "code",
      "metadata": {
        "id": "MLQ_hJh7p0x9"
      },
      "source": [
        "sns.distplot(df['high school gpa'], bins=None, kde=False)\n",
        "plt.title('Histogram: high school gpa')\n",
        "plt.show()"
      ],
      "execution_count": null,
      "outputs": []
    },
    {
      "cell_type": "code",
      "metadata": {
        "id": "GGmjyMnOp0x9"
      },
      "source": [
        "sns.distplot(df['college gpa'], bins=None, kde=False)\n",
        "plt.title('Histogram: college gpa')\n",
        "plt.show()"
      ],
      "execution_count": null,
      "outputs": []
    },
    {
      "cell_type": "markdown",
      "metadata": {
        "id": "qjPZkOWGp0x-"
      },
      "source": [
        "### 1.6 Pie charts\n",
        "\n",
        "The library ``seaborn`` currently has no function to create pie charts (likely due to the fact that this type of visualisation is often discouraged). The ``matplotlib`` function ``pie`` (``matplotlib.pyplot.pie``) can be used to depict an array of frequencies by a pie chart. For example, we may display the frequencies of ``parental level of education`` computed in the data summarization section."
      ]
    },
    {
      "cell_type": "code",
      "metadata": {
        "id": "d3impBKfp0x-"
      },
      "source": [
        "plt.pie(freq_education, labels=freq_education.index)\n",
        "plt.title('Pie chart: parental level of education')\n",
        "plt.show()"
      ],
      "execution_count": null,
      "outputs": []
    },
    {
      "cell_type": "markdown",
      "metadata": {
        "id": "ZmCukP72p0x-"
      },
      "source": [
        "### 1.7 Box Plots"
      ]
    },
    {
      "cell_type": "markdown",
      "metadata": {
        "id": "Y_Ry_SJCp0x-"
      },
      "source": [
        "The function ``boxplot`` can be used to create a box plot for a specific feature. For example, it can be used to create a box plot for ``parental income``."
      ]
    },
    {
      "cell_type": "code",
      "metadata": {
        "id": "Q7mulB16p0x_"
      },
      "source": [
        "sns.boxplot(df['parental income'], orient='v')\n",
        "plt.title('Boxplot: parental income')\n",
        "plt.show()"
      ],
      "execution_count": null,
      "outputs": []
    },
    {
      "cell_type": "markdown",
      "metadata": {
        "id": "GSKierZSp0x_"
      },
      "source": [
        "The function ``boxplot`` is also capable of grouping observations by a categorical feature and creating one box plot for each resulting group. For example, we may create one box plot of ``parental income`` for each ``parental level of education``."
      ]
    },
    {
      "cell_type": "code",
      "metadata": {
        "id": "UnaRGqEXp0x_"
      },
      "source": [
        "ax = sns.boxplot(x='parental level of education', y='parental income', data=df)\n",
        "plt.title('Boxplot: parental income, grouped by parental level of education')\n",
        "\n",
        "# Wrap xticks\n",
        "import textwrap\n",
        "ax.set_xticklabels([textwrap.fill(t.get_text(), 10)  for t in ax.get_xticklabels()])\n",
        "\n",
        "plt.show()\n"
      ],
      "execution_count": null,
      "outputs": []
    },
    {
      "cell_type": "markdown",
      "metadata": {
        "id": "KZP1qk3Bp0x_"
      },
      "source": [
        "### 1.8 Scatter plots\n",
        "\n",
        "The function ``scatterplot`` can be used to create a scatter plot for any given pair of features, while the function ``pairplot`` can be used to create a scatter plot matrix.\n",
        "\n",
        "The resulting points can be coloured according to a categorical feature given by the parameter ``hue``."
      ]
    },
    {
      "cell_type": "code",
      "metadata": {
        "id": "jcDnFjX-p0x_"
      },
      "source": [
        "sns.scatterplot(x='ACT composite score', y='SAT total score', data=df)\n",
        "plt.show()\n",
        "\n",
        "sns.pairplot(df, hue='parental level of education', diag_kind='hist')\n",
        "plt.show()"
      ],
      "execution_count": null,
      "outputs": []
    },
    {
      "cell_type": "markdown",
      "metadata": {
        "id": "1xjziBMip0yA"
      },
      "source": [
        "### 1.9 Distance matrices\n",
        "\n",
        "In order to visualise a distance matrix, it is often important to group the observations in a dataset by a given categorical feature.\n",
        "\n",
        "For example, we may sort the observations by increasing ``parental level of education``. Because the feature ``parental level of education`` is ordinal but not numerical, we may also decide to remove it from consideration when computing distances between observations.\n",
        "\n",
        "Furthermore, it is always important to scale different features so that their magnitudes are comparable when computing distances. For example, we may use the ``sklearn`` class ``StandardScaler`` to standardize each feature individually. The method ``StandardScaler.fit_transform`` expects a numpy matrix containing observations across rows and returns a corresponding matrix with standardized features."
      ]
    },
    {
      "cell_type": "code",
      "metadata": {
        "id": "y0e23lT6p0yA"
      },
      "source": [
        "from sklearn.preprocessing import StandardScaler\n",
        "\n",
        "df_sorted = df.sort_values(by='parental level of education', ascending=True)\n",
        "parental_education_sorted = df_sorted['parental level of education']\n",
        "\n",
        "X = df_sorted.drop(columns='parental level of education').to_numpy()\n",
        "scaler = StandardScaler()\n",
        "X = scaler.fit_transform(X)"
      ],
      "execution_count": null,
      "outputs": []
    },
    {
      "cell_type": "markdown",
      "metadata": {
        "id": "yM7_tCtrp0yA"
      },
      "source": [
        "The ``scipy`` function ``pdist`` (``scipy.spatial.distance.pdist``) can be used to compute pairwise Euclidean distances between observations in a matrix, while the function ``squareform`` (``scipy.spatial.distance.squareform``) can be used to convert the return of ``pdist`` into the representation that we expect (``pdist`` returns a condensed representation of a symmetric matrix).\n",
        "\n",
        "Finally, the ``seaborn`` function ``heatmap`` can be used to create a heat map for the corresponding distance matrix (for a chosen colormap).\n"
      ]
    },
    {
      "cell_type": "code",
      "metadata": {
        "id": "imyZdzzgp0yA"
      },
      "source": [
        "from scipy.spatial import distance\n",
        "\n",
        "dist = distance.squareform(distance.pdist(X))\n",
        "sns.heatmap(dist, square=True, xticklabels=False, yticklabels=False,\n",
        "                cmap='Blues')\n",
        "\n",
        "plt.show()"
      ],
      "execution_count": null,
      "outputs": []
    },
    {
      "cell_type": "markdown",
      "metadata": {
        "id": "xas7AgYOp0yA"
      },
      "source": [
        "### 1.10 Dimensionality reduction"
      ]
    },
    {
      "cell_type": "markdown",
      "metadata": {
        "id": "IXXnzY6Zp0yB"
      },
      "source": [
        "The class ``MDS`` from the library ``sklearn`` implements dimensionality reduction through multidimensional scaling. A standardized matrix of observations as the one used to compute the distance matrix in the example above is an appropriate input to the method ``MDS.fit_transform``, which outputs a matrix that contains a two-dimensional point for each observation in the input matrix. A scatter plot can be used to depict this output matrix."
      ]
    },
    {
      "cell_type": "code",
      "metadata": {
        "id": "rX9FPwhjp0yB"
      },
      "source": [
        "from sklearn.manifold import MDS\n",
        "\n",
        "embedding = MDS(n_components=2)\n",
        "\n",
        "Xp = embedding.fit_transform(X)\n",
        "df_projection = pd.DataFrame({'x': Xp[:, 0], 'y': Xp[:, 1],\n",
        "                              'parental level of education': parental_education_sorted})\n",
        "\n",
        "sns.scatterplot(x='x', y='y', hue='parental level of education', data=df_projection)\n",
        "\n",
        "plt.legend(bbox_to_anchor=(1.05, 1), loc=2, borderaxespad=0.)\n",
        "\n",
        "plt.show()\n"
      ],
      "execution_count": null,
      "outputs": []
    },
    {
      "cell_type": "markdown",
      "metadata": {
        "id": "RhyTbesIp0yB"
      },
      "source": [
        "The class ``TSNE`` from the library ``sklearn`` implements dimensionality reduction through t-distributed stochastic neighbour embedding (t-SNE). Its interface is analogous to the one provided by the class ``MDS``."
      ]
    },
    {
      "cell_type": "code",
      "metadata": {
        "id": "E6umLwfzp0yB"
      },
      "source": [
        "from sklearn.manifold import TSNE\n",
        "\n",
        "embedding = TSNE(n_components=2, perplexity=100)\n",
        "\n",
        "Xp = embedding.fit_transform(X)\n",
        "df_projection = pd.DataFrame({'x': Xp[:, 0], 'y': Xp[:, 1],\n",
        "                              'parental level of education': parental_education_sorted})\n",
        "sns.scatterplot(x='x', y='y', hue='parental level of education', data=df_projection)\n",
        "\n",
        "plt.legend(bbox_to_anchor=(1.05, 1), loc=2, borderaxespad=0.)\n",
        "plt.show()"
      ],
      "execution_count": null,
      "outputs": []
    },
    {
      "cell_type": "markdown",
      "metadata": {
        "id": "wTON7qMCp0yB"
      },
      "source": [
        "In the example below, each point obtained by t-SNE is coloured according to whether the parents of the corresponding student have a higher education degree."
      ]
    },
    {
      "cell_type": "code",
      "metadata": {
        "id": "c7FqaxGQp0yB"
      },
      "source": [
        "df_projection['parents have degree'] = (df['parental level of education'] > 'some college')\n",
        "sns.scatterplot(x='x', y='y', hue='parents have degree', data=df_projection)\n",
        "\n",
        "plt.legend(bbox_to_anchor=(1.05, 1), loc=2, borderaxespad=0.)\n",
        "plt.show()"
      ],
      "execution_count": null,
      "outputs": []
    },
    {
      "cell_type": "markdown",
      "metadata": {
        "id": "mVb7knSvp0yC"
      },
      "source": [
        "## 2 Visualising an analytic function\n",
        "\n",
        "In order to present Python functionalities related to visualising scalar fields and vector fields, we will use the analytic function $f: \\mathbb{R}^2 \\to \\mathbb{R}$ given by $f(x,y) = z = x^2 + y^2$ as a working example.\n",
        "\n",
        "The ``numpy`` function ``linspace`` can be used to create a list of evenly spaced numbers in a specified interval, while the function ``meshgrid`` can be used to create all possible combinations of numbers from two given lists of numbers.\n",
        "\n",
        "In our example, the function ``meshgrid`` returns two matrices. The first matrix replicates the numbers of the first list across rows. In our example, this matrix represents positions along the x-axis. The second matrix replicates the numbers of the second list across columns. In our example, this matrix represents positions along the y-axis.\n",
        "\n",
        "By applying elementwise operations that ultimately combine the two matrices, it is possible to evaluate a function of two variables on every element of a grid defined by the two lists of numbers generated by ``linspace``. The resulting dataset can also be represented by a ``DataFrame``."
      ]
    },
    {
      "cell_type": "code",
      "metadata": {
        "id": "vEw0aNmQp0yC"
      },
      "source": [
        "import numpy as np\n",
        "x_range = np.linspace(-1, 1, 10)\n",
        "y_range = np.linspace(-1, 1, 10)\n",
        "\n",
        "# meshgrid: X[i, j] == x_range[j] and Y[i, j] == y_range[i]\n",
        "X, Y = np.meshgrid(x_range, y_range)\n",
        "\n",
        "# Z[i, j] == f(x_range[j], y_range[i])\n",
        "Z = X**2 + Y**2\n",
        "\n",
        "# Dataset representation\n",
        "df = pd.DataFrame({'x': X.reshape(-1), 'y': Y.reshape(-1), 'z = f(x,y)': Z.reshape(-1)})\n",
        "display(df)"
      ],
      "execution_count": null,
      "outputs": []
    },
    {
      "cell_type": "markdown",
      "metadata": {
        "id": "rYj4suSzp0yC"
      },
      "source": [
        "### 2.1 Heat maps\n",
        "\n",
        "The ``matplotlib`` function ``imshow`` can be used to create a heatmap through nearest neighbour interpolation."
      ]
    },
    {
      "cell_type": "code",
      "metadata": {
        "id": "JBbFO34ip0yC"
      },
      "source": [
        "# Interpolation: point (x, y) is colored according to the value z of the nearest point in the dataset\n",
        "plt.imshow(Z, cmap='Blues', aspect='equal', interpolation='nearest')\n",
        "plt.colorbar()\n",
        "\n",
        "# xticks and yticks would show Z matrix indices\n",
        "plt.xticks([])\n",
        "plt.yticks([])\n",
        "\n",
        "plt.show()"
      ],
      "execution_count": null,
      "outputs": []
    },
    {
      "cell_type": "markdown",
      "metadata": {
        "id": "VRHQgABNp0yC"
      },
      "source": [
        "The ``matplotlib`` function ``imshow`` can also be used to create a heatmap through bilinear interpolation."
      ]
    },
    {
      "cell_type": "code",
      "metadata": {
        "id": "SHHh6sREp0yD"
      },
      "source": [
        "# Interpolation: point (x, y) is colored according to the (weighted average) value z of the four nearest points\n",
        "plt.imshow(Z, cmap='Blues', aspect='equal', interpolation='bilinear')\n",
        "plt.colorbar()\n",
        "\n",
        "# xticks and yticks would show Z matrix indices\n",
        "plt.xticks([])\n",
        "plt.yticks([])\n",
        "\n",
        "plt.show()"
      ],
      "execution_count": null,
      "outputs": []
    },
    {
      "cell_type": "markdown",
      "metadata": {
        "id": "y7CHy3kKp0yD"
      },
      "source": [
        "### 2.2 Contour plots\n",
        "\n",
        "The ``matplotlib`` function ``contour`` can be used to create a contour plot."
      ]
    },
    {
      "cell_type": "code",
      "metadata": {
        "id": "HSuQr9PDp0yD"
      },
      "source": [
        "CS = plt.contour(X, Y, Z, levels=10, cmap='Blues')\n",
        "plt.clabel(CS, inline=True, fontsize=10)\n",
        "plt.show()"
      ],
      "execution_count": null,
      "outputs": []
    },
    {
      "cell_type": "markdown",
      "metadata": {
        "id": "mgHH7mV1p0yD"
      },
      "source": [
        "### 2.3 Surface plots\n",
        "\n",
        "The library ``matplotlib`` is also capable of creating (interactive) three-dimensional plots. Surface plots can be created using the function ``plot_surface``."
      ]
    },
    {
      "cell_type": "code",
      "metadata": {
        "id": "BA_cEFVZp0yD"
      },
      "source": [
        "from mpl_toolkits.mplot3d import Axes3D\n",
        "fig = plt.figure()\n",
        "ax = fig.gca(projection='3d')\n",
        "\n",
        "surf = ax.plot_surface(X, Y, Z, cmap='Blues', linewidth=0, antialiased=True)\n",
        "fig.colorbar(surf, shrink=0.5, aspect=10)\n",
        "\n",
        "plt.show()"
      ],
      "execution_count": null,
      "outputs": []
    },
    {
      "cell_type": "markdown",
      "metadata": {
        "id": "gboBGOq1p0yD"
      },
      "source": [
        "### 2.4 Quiver plots\n",
        "\n",
        "The ``matplotlib`` function ``quiver`` can be used to create quiver plots. For example, we may use the ``numpy`` function ``gradient`` to approximate the gradient function $\\nabla f$ of the scalar field $f$ by the finite differences method, which can then be represented by a quiver plot."
      ]
    },
    {
      "cell_type": "code",
      "metadata": {
        "id": "Ba7XNF7bp0yE"
      },
      "source": [
        "DY, DX = np.gradient(Z)\n",
        "plt.quiver(X, Y, DX, DY)\n",
        "plt.show()"
      ],
      "execution_count": null,
      "outputs": []
    },
    {
      "cell_type": "markdown",
      "source": [
        "## Exercise\n",
        "\n",
        "\n",
        "\n",
        "Kaggle has a data-set of cars which can be downloaded  [here](https://www.kaggle.com/CooperUnion/cardataset). The csv file is named data.csv and can also be found in QM+. </br>\n",
        "It contains more than 10,000 rows and more than 10 columns of features of the car such as Engine Fuel Type, Engine HP, Transmission Type, highway MPG, city MPG. </br>\n",
        "Fill in the code below according to instructions-comments."
      ],
      "metadata": {
        "id": "3A9QvCIf8--d"
      }
    },
    {
      "cell_type": "code",
      "source": [
        "# packages that will be needed\n",
        "\n",
        "import pandas as pd\n",
        "import numpy as np\n",
        "import seaborn as sns                       #visualisation\n",
        "import matplotlib.pyplot as plt             #visualisation\n",
        "%matplotlib inline\n",
        "sns.set(color_codes=True)\n"
      ],
      "metadata": {
        "id": "bLmaIfjd98-1"
      },
      "execution_count": 81,
      "outputs": []
    },
    {
      "cell_type": "code",
      "source": [
        "# 1) load the dataset\n",
        "df = pd.read_csv(\"data.csv\")\n",
        "df.columns = [\"Make\", \"Model\", \"Year\", \"Engine Fuel Type\", \"Engine HP\", \"Engine Cylinders\", \"Transmission Type\", \"Driven_Wheels\", \"Number of Doors\", \"Market Category\", \"Vehicle Size\", \"Vehicle Style\", \"highway MPG\", \"city mpg\", \"Popularity\", \"MSRP\"];\n"
      ],
      "metadata": {
        "id": "Mv3ow2GyCRrL"
      },
      "execution_count": 70,
      "outputs": []
    },
    {
      "cell_type": "code",
      "source": [
        "# 2) check types of features\n",
        "print(df.info())"
      ],
      "metadata": {
        "id": "Ctj_qrAlCQvB",
        "outputId": "567ecfd7-da79-4cc4-fec6-6ba72e3e565b",
        "colab": {
          "base_uri": "https://localhost:8080/"
        }
      },
      "execution_count": 71,
      "outputs": [
        {
          "output_type": "stream",
          "name": "stdout",
          "text": [
            "<class 'pandas.core.frame.DataFrame'>\n",
            "RangeIndex: 11914 entries, 0 to 11913\n",
            "Data columns (total 16 columns):\n",
            " #   Column             Non-Null Count  Dtype  \n",
            "---  ------             --------------  -----  \n",
            " 0   Make               11914 non-null  object \n",
            " 1   Model              11914 non-null  object \n",
            " 2   Year               11914 non-null  int64  \n",
            " 3   Engine Fuel Type   11911 non-null  object \n",
            " 4   Engine HP          11845 non-null  float64\n",
            " 5   Engine Cylinders   11884 non-null  float64\n",
            " 6   Transmission Type  11914 non-null  object \n",
            " 7   Driven_Wheels      11914 non-null  object \n",
            " 8   Number of Doors    11908 non-null  float64\n",
            " 9   Market Category    8172 non-null   object \n",
            " 10  Vehicle Size       11914 non-null  object \n",
            " 11  Vehicle Style      11914 non-null  object \n",
            " 12  highway MPG        11914 non-null  int64  \n",
            " 13  city mpg           11914 non-null  int64  \n",
            " 14  Popularity         11914 non-null  int64  \n",
            " 15  MSRP               11914 non-null  int64  \n",
            "dtypes: float64(3), int64(5), object(8)\n",
            "memory usage: 1.5+ MB\n",
            "None\n"
          ]
        }
      ]
    },
    {
      "cell_type": "code",
      "source": [
        "# 3) drop the features: Engine Fuel Type,  Market Category, Vehicle Style, Popularity, Number of Doors and Vehicle Size\n",
        "df = df.drop([\"Engine Fuel Type\",  \"Market Category\", \"Vehicle Style\", \"Popularity\", \"Number of Doors\", \"Vehicle Size\"], axis=1)"
      ],
      "metadata": {
        "id": "Luq8587nCcfv"
      },
      "execution_count": 72,
      "outputs": []
    },
    {
      "cell_type": "code",
      "source": [
        "# 4) print number of duplicate rows and then remove them\n",
        "duplicates = df.duplicated()\n",
        "print(\"Number of duplicated rows: %d\" % duplicates.sum());\n",
        "duplicate_removed_df = df.drop_duplicates()"
      ],
      "metadata": {
        "id": "rdYIrggeCfzy",
        "outputId": "641b085a-e423-4a4c-cf03-94bd7f0f64e3",
        "colab": {
          "base_uri": "https://localhost:8080/"
        }
      },
      "execution_count": 74,
      "outputs": [
        {
          "output_type": "stream",
          "name": "stdout",
          "text": [
            "Number of duplicated rows: 989\n"
          ]
        }
      ]
    },
    {
      "cell_type": "code",
      "source": [
        "# 5) print how many missing and null values exist per feature and then remove them\n",
        "df = df.replace('N/A',np.NaN) # replaces 'N/A' values with np.NaN\n",
        "print(\"Number of missing values:\");\n",
        "for c in df.columns:\n",
        "  print('\\t%s: %d' % (c, df[c].isna().sum())) # sums all np.NaN values for each column\n",
        "\n",
        "df = df.dropna() # deletes all rows with np.NaN values in them"
      ],
      "metadata": {
        "id": "l7574R_1CkHm",
        "outputId": "1a6bb936-23b4-4461-9361-531e2da9e689",
        "colab": {
          "base_uri": "https://localhost:8080/"
        }
      },
      "execution_count": 80,
      "outputs": [
        {
          "output_type": "stream",
          "name": "stdout",
          "text": [
            "Number of missing values:\n",
            "\tMake: 0\n",
            "\tModel: 0\n",
            "\tYear: 0\n",
            "\tEngine HP: 0\n",
            "\tEngine Cylinders: 0\n",
            "\tTransmission Type: 0\n",
            "\tDriven_Wheels: 0\n",
            "\thighway MPG: 0\n",
            "\tcity mpg: 0\n",
            "\tMSRP: 0\n"
          ]
        }
      ]
    },
    {
      "cell_type": "code",
      "source": [
        "# 6) compute correlation between the features and then create its heatmap\n",
        "df_corr = df.corr()\n",
        "\n",
        "plt.imshow(df_corr, cmap='Blues', aspect='equal', interpolation='nearest')\n",
        "plt.title(\"heatmap of correlated dataframe\")\n",
        "\n",
        "\n",
        "plt.show()\n"
      ],
      "metadata": {
        "id": "FL3ZDcJKCleG",
        "outputId": "f9bb4f4c-136f-4555-f435-e56720b03c11",
        "colab": {
          "base_uri": "https://localhost:8080/",
          "height": 511
        }
      },
      "execution_count": 87,
      "outputs": [
        {
          "output_type": "stream",
          "name": "stderr",
          "text": [
            "<ipython-input-87-0eeb24b5953a>:2: FutureWarning: The default value of numeric_only in DataFrame.corr is deprecated. In a future version, it will default to False. Select only valid columns or specify the value of numeric_only to silence this warning.\n",
            "  df_corr = df.corr()\n"
          ]
        },
        {
          "output_type": "display_data",
          "data": {
            "text/plain": [
              "<Figure size 640x480 with 1 Axes>"
            ],
            "image/png": "[encoded data removed]"
          },
          "metadata": {
            "image/png": {
              "width": 412,
              "height": 438
            }
          }
        }
      ]
    },
    {
      "cell_type": "markdown",
      "source": [
        "Given the above heatmap what can you infer about the feature MSRP (i.e. price)? Do the results seem intuitive?"
      ],
      "metadata": {
        "id": "ORESRh23CnKs"
      }
    },
    {
      "cell_type": "markdown",
      "source": [
        "I can infer that MSRP follows a linear, inverse trend.\n",
        "However, there are also high-density areas on the bottom-left, and top-right of the plot, meaning not all MSRP values follow this trend"
      ],
      "metadata": {
        "id": "-_jiuakFuITp"
      }
    },
    {
      "cell_type": "code",
      "source": [
        "# 7) in the steps above there is something that was not taken into account: outliers!\n",
        "#    create the boxplot for the feature MSRP (i.e. price) and check whether outliers exist\n",
        "#    remove the outliers of the whole dataset by utilizing the IQR of the boxplot\n",
        "sns.boxplot(df['MSRP'], orient='v')\n",
        "plt.title('boxplot of MSRP (outliers present)')\n",
        "plt.show() # conclusion: outliers exist\n",
        "\n",
        "# calculating z-score to eliminate outliers:\n",
        "z_score = (df - df.mean()) / df.std()\n",
        "df_removed_outliers = z_score.loc[((z_score > -3).sum(axis = 1) == 9) & ((z_score <= 3).sum(axis = 1) == 9), :] # checking within range of ± 3 stds\n",
        "sns.boxplot(df_removed_outliers[\"MSRP\"], orient='v')\n",
        "plt.title('boxplot of MSRP (outliers eliminated)')\n",
        "plt.show()\n"
      ],
      "metadata": {
        "id": "81EBU3fXFMq9",
        "outputId": "67553e21-e816-485a-ac2e-090613856230",
        "colab": {
          "base_uri": "https://localhost:8080/",
          "height": 1000
        }
      },
      "execution_count": 101,
      "outputs": [
        {
          "output_type": "display_data",
          "data": {
            "text/plain": [
              "<Figure size 640x480 with 1 Axes>"
            ],
            "image/png": "[encoded data removed]"
          },
          "metadata": {
            "image/png": {
              "width": 553,
              "height": 438
            }
          }
        },
        {
          "output_type": "stream",
          "name": "stderr",
          "text": [
            "<ipython-input-101-0a52b36f15aa>:9: FutureWarning: The default value of numeric_only in DataFrame.mean is deprecated. In a future version, it will default to False. In addition, specifying 'numeric_only=None' is deprecated. Select only valid columns or specify the value of numeric_only to silence this warning.\n",
            "  z_score = (df - df.mean()) / df.std()\n",
            "<ipython-input-101-0a52b36f15aa>:9: FutureWarning: The default value of numeric_only in DataFrame.std is deprecated. In a future version, it will default to False. In addition, specifying 'numeric_only=None' is deprecated. Select only valid columns or specify the value of numeric_only to silence this warning.\n",
            "  z_score = (df - df.mean()) / df.std()\n"
          ]
        },
        {
          "output_type": "error",
          "ename": "KeyError",
          "evalue": "ignored",
          "traceback": [
            "\u001b[0;31m---------------------------------------------------------------------------\u001b[0m",
            "\u001b[0;31mKeyError\u001b[0m                                  Traceback (most recent call last)",
            "\u001b[0;32m/usr/local/lib/python3.10/dist-packages/pandas/core/indexes/base.py\u001b[0m in \u001b[0;36mget_loc\u001b[0;34m(self, key, method, tolerance)\u001b[0m\n\u001b[1;32m   3801\u001b[0m             \u001b[0;32mtry\u001b[0m\u001b[0;34m:\u001b[0m\u001b[0;34m\u001b[0m\u001b[0;34m\u001b[0m\u001b[0m\n\u001b[0;32m-> 3802\u001b[0;31m                 \u001b[0;32mreturn\u001b[0m \u001b[0mself\u001b[0m\u001b[0;34m.\u001b[0m\u001b[0m_engine\u001b[0m\u001b[0;34m.\u001b[0m\u001b[0mget_loc\u001b[0m\u001b[0;34m(\u001b[0m\u001b[0mcasted_key\u001b[0m\u001b[0;34m)\u001b[0m\u001b[0;34m\u001b[0m\u001b[0;34m\u001b[0m\u001b[0m\n\u001b[0m\u001b[1;32m   3803\u001b[0m             \u001b[0;32mexcept\u001b[0m \u001b[0mKeyError\u001b[0m \u001b[0;32mas\u001b[0m \u001b[0merr\u001b[0m\u001b[0;34m:\u001b[0m\u001b[0;34m\u001b[0m\u001b[0;34m\u001b[0m\u001b[0m\n",
            "\u001b[0;32m/usr/local/lib/python3.10/dist-packages/pandas/_libs/index.pyx\u001b[0m in \u001b[0;36mpandas._libs.index.IndexEngine.get_loc\u001b[0;34m()\u001b[0m\n",
            "\u001b[0;32m/usr/local/lib/python3.10/dist-packages/pandas/_libs/index.pyx\u001b[0m in \u001b[0;36mpandas._libs.index.IndexEngine.get_loc\u001b[0;34m()\u001b[0m\n",
            "\u001b[0;32mpandas/_libs/hashtable_class_helper.pxi\u001b[0m in \u001b[0;36mpandas._libs.hashtable.Int64HashTable.get_item\u001b[0;34m()\u001b[0m\n",
            "\u001b[0;32mpandas/_libs/hashtable_class_helper.pxi\u001b[0m in \u001b[0;36mpandas._libs.hashtable.Int64HashTable.get_item\u001b[0;34m()\u001b[0m\n",
            "\u001b[0;31mKeyError\u001b[0m: 0",
            "\nThe above exception was the direct cause of the following exception:\n",
            "\u001b[0;31mKeyError\u001b[0m                                  Traceback (most recent call last)",
            "\u001b[0;32m<ipython-input-101-0a52b36f15aa>\u001b[0m in \u001b[0;36m<cell line: 11>\u001b[0;34m()\u001b[0m\n\u001b[1;32m      9\u001b[0m \u001b[0mz_score\u001b[0m \u001b[0;34m=\u001b[0m \u001b[0;34m(\u001b[0m\u001b[0mdf\u001b[0m \u001b[0;34m-\u001b[0m \u001b[0mdf\u001b[0m\u001b[0;34m.\u001b[0m\u001b[0mmean\u001b[0m\u001b[0;34m(\u001b[0m\u001b[0;34m)\u001b[0m\u001b[0;34m)\u001b[0m \u001b[0;34m/\u001b[0m \u001b[0mdf\u001b[0m\u001b[0;34m.\u001b[0m\u001b[0mstd\u001b[0m\u001b[0;34m(\u001b[0m\u001b[0;34m)\u001b[0m\u001b[0;34m\u001b[0m\u001b[0;34m\u001b[0m\u001b[0m\n\u001b[1;32m     10\u001b[0m \u001b[0mdf_removed_outliers\u001b[0m \u001b[0;34m=\u001b[0m \u001b[0mz_score\u001b[0m\u001b[0;34m.\u001b[0m\u001b[0mloc\u001b[0m\u001b[0;34m[\u001b[0m\u001b[0;34m(\u001b[0m\u001b[0;34m(\u001b[0m\u001b[0mz_score\u001b[0m \u001b[0;34m>\u001b[0m \u001b[0;34m-\u001b[0m\u001b[0;36m3\u001b[0m\u001b[0;34m)\u001b[0m\u001b[0;34m.\u001b[0m\u001b[0msum\u001b[0m\u001b[0;34m(\u001b[0m\u001b[0maxis\u001b[0m \u001b[0;34m=\u001b[0m \u001b[0;36m1\u001b[0m\u001b[0;34m)\u001b[0m \u001b[0;34m==\u001b[0m \u001b[0;36m9\u001b[0m\u001b[0;34m)\u001b[0m \u001b[0;34m&\u001b[0m \u001b[0;34m(\u001b[0m\u001b[0;34m(\u001b[0m\u001b[0mz_score\u001b[0m \u001b[0;34m<=\u001b[0m \u001b[0;36m3\u001b[0m\u001b[0;34m)\u001b[0m\u001b[0;34m.\u001b[0m\u001b[0msum\u001b[0m\u001b[0;34m(\u001b[0m\u001b[0maxis\u001b[0m \u001b[0;34m=\u001b[0m \u001b[0;36m1\u001b[0m\u001b[0;34m)\u001b[0m \u001b[0;34m==\u001b[0m \u001b[0;36m9\u001b[0m\u001b[0;34m)\u001b[0m\u001b[0;34m,\u001b[0m \u001b[0;34m:\u001b[0m\u001b[0;34m]\u001b[0m \u001b[0;31m# checking within range of ± 3 stds\u001b[0m\u001b[0;34m\u001b[0m\u001b[0;34m\u001b[0m\u001b[0m\n\u001b[0;32m---> 11\u001b[0;31m \u001b[0msns\u001b[0m\u001b[0;34m.\u001b[0m\u001b[0mboxplot\u001b[0m\u001b[0;34m(\u001b[0m\u001b[0mdf_removed_outliers\u001b[0m\u001b[0;34m[\u001b[0m\u001b[0;34m\"MSRP\"\u001b[0m\u001b[0;34m]\u001b[0m\u001b[0;34m,\u001b[0m \u001b[0morient\u001b[0m\u001b[0;34m=\u001b[0m\u001b[0;34m'v'\u001b[0m\u001b[0;34m)\u001b[0m\u001b[0;34m\u001b[0m\u001b[0;34m\u001b[0m\u001b[0m\n\u001b[0m\u001b[1;32m     12\u001b[0m \u001b[0mplt\u001b[0m\u001b[0;34m.\u001b[0m\u001b[0mtitle\u001b[0m\u001b[0;34m(\u001b[0m\u001b[0;34m'boxplot of MSRP (outliers eliminated)'\u001b[0m\u001b[0;34m)\u001b[0m\u001b[0;34m\u001b[0m\u001b[0;34m\u001b[0m\u001b[0m\n\u001b[1;32m     13\u001b[0m \u001b[0mplt\u001b[0m\u001b[0;34m.\u001b[0m\u001b[0mshow\u001b[0m\u001b[0;34m(\u001b[0m\u001b[0;34m)\u001b[0m\u001b[0;34m\u001b[0m\u001b[0;34m\u001b[0m\u001b[0m\n",
            "\u001b[0;32m/usr/local/lib/python3.10/dist-packages/seaborn/categorical.py\u001b[0m in \u001b[0;36mboxplot\u001b[0;34m(data, x, y, hue, order, hue_order, orient, color, palette, saturation, width, dodge, fliersize, linewidth, whis, ax, **kwargs)\u001b[0m\n\u001b[1;32m   2229\u001b[0m ):\n\u001b[1;32m   2230\u001b[0m \u001b[0;34m\u001b[0m\u001b[0m\n\u001b[0;32m-> 2231\u001b[0;31m     plotter = _BoxPlotter(x, y, hue, data, order, hue_order,\n\u001b[0m\u001b[1;32m   2232\u001b[0m                           \u001b[0morient\u001b[0m\u001b[0;34m,\u001b[0m \u001b[0mcolor\u001b[0m\u001b[0;34m,\u001b[0m \u001b[0mpalette\u001b[0m\u001b[0;34m,\u001b[0m \u001b[0msaturation\u001b[0m\u001b[0;34m,\u001b[0m\u001b[0;34m\u001b[0m\u001b[0;34m\u001b[0m\u001b[0m\n\u001b[1;32m   2233\u001b[0m                           width, dodge, fliersize, linewidth)\n",
            "\u001b[0;32m/usr/local/lib/python3.10/dist-packages/seaborn/categorical.py\u001b[0m in \u001b[0;36m__init__\u001b[0;34m(self, x, y, hue, data, order, hue_order, orient, color, palette, saturation, width, dodge, fliersize, linewidth)\u001b[0m\n\u001b[1;32m    783\u001b[0m                  width, dodge, fliersize, linewidth):\n\u001b[1;32m    784\u001b[0m \u001b[0;34m\u001b[0m\u001b[0m\n\u001b[0;32m--> 785\u001b[0;31m         \u001b[0mself\u001b[0m\u001b[0;34m.\u001b[0m\u001b[0mestablish_variables\u001b[0m\u001b[0;34m(\u001b[0m\u001b[0mx\u001b[0m\u001b[0;34m,\u001b[0m \u001b[0my\u001b[0m\u001b[0;34m,\u001b[0m \u001b[0mhue\u001b[0m\u001b[0;34m,\u001b[0m \u001b[0mdata\u001b[0m\u001b[0;34m,\u001b[0m \u001b[0morient\u001b[0m\u001b[0;34m,\u001b[0m \u001b[0morder\u001b[0m\u001b[0;34m,\u001b[0m \u001b[0mhue_order\u001b[0m\u001b[0;34m)\u001b[0m\u001b[0;34m\u001b[0m\u001b[0;34m\u001b[0m\u001b[0m\n\u001b[0m\u001b[1;32m    786\u001b[0m         \u001b[0mself\u001b[0m\u001b[0;34m.\u001b[0m\u001b[0mestablish_colors\u001b[0m\u001b[0;34m(\u001b[0m\u001b[0mcolor\u001b[0m\u001b[0;34m,\u001b[0m \u001b[0mpalette\u001b[0m\u001b[0;34m,\u001b[0m \u001b[0msaturation\u001b[0m\u001b[0;34m)\u001b[0m\u001b[0;34m\u001b[0m\u001b[0;34m\u001b[0m\u001b[0m\n\u001b[1;32m    787\u001b[0m \u001b[0;34m\u001b[0m\u001b[0m\n",
            "\u001b[0;32m/usr/local/lib/python3.10/dist-packages/seaborn/categorical.py\u001b[0m in \u001b[0;36mestablish_variables\u001b[0;34m(self, x, y, hue, data, orient, order, hue_order, units)\u001b[0m\n\u001b[1;32m    484\u001b[0m                 \u001b[0;32mif\u001b[0m \u001b[0mhasattr\u001b[0m\u001b[0;34m(\u001b[0m\u001b[0mdata\u001b[0m\u001b[0;34m,\u001b[0m \u001b[0;34m\"shape\"\u001b[0m\u001b[0;34m)\u001b[0m\u001b[0;34m:\u001b[0m\u001b[0;34m\u001b[0m\u001b[0;34m\u001b[0m\u001b[0m\n\u001b[1;32m    485\u001b[0m                     \u001b[0;32mif\u001b[0m \u001b[0mlen\u001b[0m\u001b[0;34m(\u001b[0m\u001b[0mdata\u001b[0m\u001b[0;34m.\u001b[0m\u001b[0mshape\u001b[0m\u001b[0;34m)\u001b[0m \u001b[0;34m==\u001b[0m \u001b[0;36m1\u001b[0m\u001b[0;34m:\u001b[0m\u001b[0;34m\u001b[0m\u001b[0;34m\u001b[0m\u001b[0m\n\u001b[0;32m--> 486\u001b[0;31m                         \u001b[0;32mif\u001b[0m \u001b[0mnp\u001b[0m\u001b[0;34m.\u001b[0m\u001b[0misscalar\u001b[0m\u001b[0;34m(\u001b[0m\u001b[0mdata\u001b[0m\u001b[0;34m[\u001b[0m\u001b[0;36m0\u001b[0m\u001b[0;34m]\u001b[0m\u001b[0;34m)\u001b[0m\u001b[0;34m:\u001b[0m\u001b[0;34m\u001b[0m\u001b[0;34m\u001b[0m\u001b[0m\n\u001b[0m\u001b[1;32m    487\u001b[0m                             \u001b[0mplot_data\u001b[0m \u001b[0;34m=\u001b[0m \u001b[0;34m[\u001b[0m\u001b[0mdata\u001b[0m\u001b[0;34m]\u001b[0m\u001b[0;34m\u001b[0m\u001b[0;34m\u001b[0m\u001b[0m\n\u001b[1;32m    488\u001b[0m                         \u001b[0;32melse\u001b[0m\u001b[0;34m:\u001b[0m\u001b[0;34m\u001b[0m\u001b[0;34m\u001b[0m\u001b[0m\n",
            "\u001b[0;32m/usr/local/lib/python3.10/dist-packages/pandas/core/series.py\u001b[0m in \u001b[0;36m__getitem__\u001b[0;34m(self, key)\u001b[0m\n\u001b[1;32m    979\u001b[0m \u001b[0;34m\u001b[0m\u001b[0m\n\u001b[1;32m    980\u001b[0m         \u001b[0;32melif\u001b[0m \u001b[0mkey_is_scalar\u001b[0m\u001b[0;34m:\u001b[0m\u001b[0;34m\u001b[0m\u001b[0;34m\u001b[0m\u001b[0m\n\u001b[0;32m--> 981\u001b[0;31m             \u001b[0;32mreturn\u001b[0m \u001b[0mself\u001b[0m\u001b[0;34m.\u001b[0m\u001b[0m_get_value\u001b[0m\u001b[0;34m(\u001b[0m\u001b[0mkey\u001b[0m\u001b[0;34m)\u001b[0m\u001b[0;34m\u001b[0m\u001b[0;34m\u001b[0m\u001b[0m\n\u001b[0m\u001b[1;32m    982\u001b[0m \u001b[0;34m\u001b[0m\u001b[0m\n\u001b[1;32m    983\u001b[0m         \u001b[0;32mif\u001b[0m \u001b[0mis_hashable\u001b[0m\u001b[0;34m(\u001b[0m\u001b[0mkey\u001b[0m\u001b[0;34m)\u001b[0m\u001b[0;34m:\u001b[0m\u001b[0;34m\u001b[0m\u001b[0;34m\u001b[0m\u001b[0m\n",
            "\u001b[0;32m/usr/local/lib/python3.10/dist-packages/pandas/core/series.py\u001b[0m in \u001b[0;36m_get_value\u001b[0;34m(self, label, takeable)\u001b[0m\n\u001b[1;32m   1087\u001b[0m \u001b[0;34m\u001b[0m\u001b[0m\n\u001b[1;32m   1088\u001b[0m         \u001b[0;31m# Similar to Index.get_value, but we do not fall back to positional\u001b[0m\u001b[0;34m\u001b[0m\u001b[0;34m\u001b[0m\u001b[0m\n\u001b[0;32m-> 1089\u001b[0;31m         \u001b[0mloc\u001b[0m \u001b[0;34m=\u001b[0m \u001b[0mself\u001b[0m\u001b[0;34m.\u001b[0m\u001b[0mindex\u001b[0m\u001b[0;34m.\u001b[0m\u001b[0mget_loc\u001b[0m\u001b[0;34m(\u001b[0m\u001b[0mlabel\u001b[0m\u001b[0;34m)\u001b[0m\u001b[0;34m\u001b[0m\u001b[0;34m\u001b[0m\u001b[0m\n\u001b[0m\u001b[1;32m   1090\u001b[0m         \u001b[0;32mreturn\u001b[0m \u001b[0mself\u001b[0m\u001b[0;34m.\u001b[0m\u001b[0mindex\u001b[0m\u001b[0;34m.\u001b[0m\u001b[0m_get_values_for_loc\u001b[0m\u001b[0;34m(\u001b[0m\u001b[0mself\u001b[0m\u001b[0;34m,\u001b[0m \u001b[0mloc\u001b[0m\u001b[0;34m,\u001b[0m \u001b[0mlabel\u001b[0m\u001b[0;34m)\u001b[0m\u001b[0;34m\u001b[0m\u001b[0;34m\u001b[0m\u001b[0m\n\u001b[1;32m   1091\u001b[0m \u001b[0;34m\u001b[0m\u001b[0m\n",
            "\u001b[0;32m/usr/local/lib/python3.10/dist-packages/pandas/core/indexes/base.py\u001b[0m in \u001b[0;36mget_loc\u001b[0;34m(self, key, method, tolerance)\u001b[0m\n\u001b[1;32m   3802\u001b[0m                 \u001b[0;32mreturn\u001b[0m \u001b[0mself\u001b[0m\u001b[0;34m.\u001b[0m\u001b[0m_engine\u001b[0m\u001b[0;34m.\u001b[0m\u001b[0mget_loc\u001b[0m\u001b[0;34m(\u001b[0m\u001b[0mcasted_key\u001b[0m\u001b[0;34m)\u001b[0m\u001b[0;34m\u001b[0m\u001b[0;34m\u001b[0m\u001b[0m\n\u001b[1;32m   3803\u001b[0m             \u001b[0;32mexcept\u001b[0m \u001b[0mKeyError\u001b[0m \u001b[0;32mas\u001b[0m \u001b[0merr\u001b[0m\u001b[0;34m:\u001b[0m\u001b[0;34m\u001b[0m\u001b[0;34m\u001b[0m\u001b[0m\n\u001b[0;32m-> 3804\u001b[0;31m                 \u001b[0;32mraise\u001b[0m \u001b[0mKeyError\u001b[0m\u001b[0;34m(\u001b[0m\u001b[0mkey\u001b[0m\u001b[0;34m)\u001b[0m \u001b[0;32mfrom\u001b[0m \u001b[0merr\u001b[0m\u001b[0;34m\u001b[0m\u001b[0;34m\u001b[0m\u001b[0m\n\u001b[0m\u001b[1;32m   3805\u001b[0m             \u001b[0;32mexcept\u001b[0m \u001b[0mTypeError\u001b[0m\u001b[0;34m:\u001b[0m\u001b[0;34m\u001b[0m\u001b[0;34m\u001b[0m\u001b[0m\n\u001b[1;32m   3806\u001b[0m                 \u001b[0;31m# If we have a listlike key, _check_indexing_error will raise\u001b[0m\u001b[0;34m\u001b[0m\u001b[0;34m\u001b[0m\u001b[0m\n",
            "\u001b[0;31mKeyError\u001b[0m: 0"
          ]
        }
      ]
    },
    {
      "cell_type": "code",
      "source": [
        "# 8) compute again the correlation between the features and create its heatmap\n",
        "df_corr2 = df_removed_outliers.corr()\n",
        "\n",
        "plt.imshow(df_corr2, cmap='Blues', aspect='equal', interpolation='nearest')\n",
        "plt.title(\"heatmap of correlated dataframe\")\n",
        "\n",
        "plt.show()"
      ],
      "metadata": {
        "id": "p06mtKJmGZio"
      },
      "execution_count": null,
      "outputs": []
    },
    {
      "cell_type": "markdown",
      "source": [
        "Given the above heatmap (after outliers have been removed), what can you infer now about the feature MSRP (i.e., price)? Which feature is shown to depend on others and this result seems intuitive?\n",
        "\n"
      ],
      "metadata": {
        "id": "9NCDVIPZFGHU"
      }
    }
  ]
}