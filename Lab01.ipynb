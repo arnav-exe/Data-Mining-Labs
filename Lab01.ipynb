{
  "cells": [
    {
      "cell_type": "markdown",
      "metadata": {
        "id": "view-in-github",
        "colab_type": "text"
      },
      "source": [
        "<a href=\"https://colab.research.google.com/github/arnav-exe/Data-Mining-Labs/blob/main/Lab01.ipynb\" target=\"_parent\"><img src=\"https://colab.research.google.com/assets/colab-badge.svg\" alt=\"Open In Colab\"/></a>"
      ]
    },
    {
      "cell_type": "markdown",
      "metadata": {
        "id": "aep2zkjUUz0p"
      },
      "source": [
        "# Lab session 1: Data"
      ]
    },
    {
      "cell_type": "markdown",
      "metadata": {
        "id": "pTwv2vbWUz0r"
      },
      "source": [
        "## Introduction\n",
        "\n",
        "The aim of this lab is for students to familiarise with  **basic exploratory data analysis** of a sample dataset, and more specifically with the concepts of **summary statistics** and **data visualisation** covered in week 2. We will use  the Python's **pandas** package in this **notebook** environment.\n",
        "\n"
      ]
    },
    {
      "cell_type": "markdown",
      "metadata": {
        "id": "ayeVqk8WUz0r"
      },
      "source": [
        "### Before we start:\n",
        "\n",
        "This environment that allows us to enter both text and run codes interactively, is a web-based user-friendly environment called [Jupyter notebook](https://jupyter.org/).\n",
        "\n",
        "There are two types of cells: *Text* and *Code*. You can add your own cells. You can also edit the texts by double-clicking on them. It follows the [markup rules](https://github.com/adam-p/markdown-here/wiki/Markdown-Cheatsheet).\n",
        "\n",
        "In order to execute (run) a cell, you can use one of the following ways:\n",
        "\n",
        "0. `Shift + Enter` : executes a cell and goes to the next one.\n",
        "1. `Ctrl + Enter` : executes a block but stays at the same block. This is equivalent to clicking on the *run* button to the left of the cell, which appears when you hover the mouse over the `[ ]` icon.\n",
        "2. Use the `Runtime` tab (at the top of the page), which gives you more options as well.\n",
        "\n",
        "Now, test your knowledge by running the next cell (the output should appear right after):"
      ]
    },
    {
      "cell_type": "code",
      "execution_count": 2,
      "metadata": {
        "id": "v0T8VcP9DSWe",
        "colab": {
          "base_uri": "https://localhost:8080/"
        },
        "outputId": "3e8bacb9-0027-421d-be72-4b4e61ce87f0"
      },
      "outputs": [
        {
          "output_type": "stream",
          "name": "stdout",
          "text": [
            " 1 - Welcome to the Data Mining lab!\n",
            " 2 - Welcome to the Data Mining lab!\n",
            " 4 - Welcome to the Data Mining lab!\n",
            " 8 - Welcome to the Data Mining lab!\n",
            "16 - Welcome to the Data Mining lab!\n"
          ]
        }
      ],
      "source": [
        "for i in range(5):\n",
        "  print('{:2d} - Welcome to the Data Mining lab!'.format(2**i))"
      ]
    },
    {
      "cell_type": "markdown",
      "metadata": {
        "id": "T_hB_CXQNTho"
      },
      "source": [
        "As you might have noticed, we will be using Python codes. Let's have a word on why `Python`?\n",
        "\n",
        "*Well, for one, it is the most preferred language among data scientist, according to [this poll](https://www.kdnuggets.com/2018/05/poll-tools-analytics-data-science-machine-learning-results.html).\n",
        "Also it helps that it is a general purpose programming language with a simple syntax. It also has a lot of great open-source libraries -- which, in Python, we call them `packages` -- developed by an active community. If interested, [read more](https://www.cbtnuggets.com/blog/technology/data/why-data-scientists-love-python) on why Python is particularly so popular among data scientist.*"
      ]
    },
    {
      "cell_type": "markdown",
      "metadata": {
        "id": "Pv-i8qScUz0s"
      },
      "source": [
        "### Some more `notebook` cool tricks:\n"
      ]
    },
    {
      "cell_type": "markdown",
      "metadata": {
        "id": "Yqt3m-dISdQH"
      },
      "source": [
        "- You can use the **`tab`** button for auto-completing. You can also use `tab` after a **`dot`** to be shown a drop-down list of the available attributes and methods on an object or a class. For instance, let's create a string object called `mystring` (by executing the first cell), and use the `tab` key after a `dot` to see a list of available attributes and methods for a string object in Python (in the second cell: don't run it, just use the tab key after dot!)."
      ]
    },
    {
      "cell_type": "code",
      "execution_count": null,
      "metadata": {
        "id": "5lWMrlANLVgS"
      },
      "outputs": [],
      "source": [
        "mystring = '   Hello, World!'"
      ]
    },
    {
      "cell_type": "code",
      "execution_count": null,
      "metadata": {
        "id": "AaQ7X-h6OVOm"
      },
      "outputs": [],
      "source": [
        "mystring.format"
      ]
    },
    {
      "cell_type": "markdown",
      "metadata": {
        "id": "p7v8mCdQOpgZ"
      },
      "source": [
        "Note that in Python, every variable is an object. Also by now, you should have noticed that we do not need to explicitly declare variables and their types in Python before using them.\n",
        "\n",
        "Another thing to keep in mind is that objects and functions (runtime variables) persist between different cells in the same notebook session. If you want to clear the memory, you can choose \"`Reset all runtimes...`\" under the \"`Runtime`\" tab from the top-left menu."
      ]
    },
    {
      "cell_type": "markdown",
      "metadata": {
        "id": "9FjvhE_VR2BC"
      },
      "source": [
        "- Another useful point about the `notebook` environment is that if you want to get help on anything (a method, a function, an object, etc), you can just put a question mark in front of it and execute that line. For instance, let's get help on what the `strip` method does on a string object, by executing the following cell:"
      ]
    },
    {
      "cell_type": "code",
      "execution_count": 12,
      "metadata": {
        "id": "RJTJ4wLFSXTz"
      },
      "outputs": [],
      "source": [
        "mystring.strip?\n",
        "# This opens the help on the method \"strip\" at the bottom of this\n",
        "# page. You can close the help page after reading it.\n",
        "# By the way, this is how we designate a comment line in Python!"
      ]
    },
    {
      "cell_type": "markdown",
      "metadata": {
        "id": "RQrmMEyJU9wa"
      },
      "source": [
        "From now on, we may give a hint about answering a question by putting a question mark in front of a command to open the help page for it for you. Your task is to complete the command."
      ]
    },
    {
      "cell_type": "code",
      "execution_count": 14,
      "metadata": {
        "id": "WOhjRZRZVIVC",
        "colab": {
          "base_uri": "https://localhost:8080/"
        },
        "outputId": "a47d6ed1-edd1-44ef-f42f-c0aecb19c464"
      },
      "outputs": [
        {
          "output_type": "stream",
          "name": "stdout",
          "text": [
            "         asdf\n",
            "asdf\n"
          ]
        }
      ],
      "source": [
        "mystring = \"         asdf\"\n",
        "print(mystring)\n",
        "print(mystring.strip())"
      ]
    },
    {
      "cell_type": "markdown",
      "metadata": {
        "id": "KKlNqAg6MzRP"
      },
      "source": [
        "## 1.   Explore the Dataset -- using Python's `Pandas`"
      ]
    },
    {
      "cell_type": "markdown",
      "metadata": {
        "id": "jMy4U6wpdclq"
      },
      "source": [
        "Here, we are going to perform some basic *exploratory data analysis* on some sample data.\n",
        "Data exploration refers to the preliminary investigation of data in order\n",
        "to better understand its specific characteristics. There are two key motivations for data exploration:\n",
        "1. To help users select the appropriate preprocessing and data analysis technique used.\n",
        "2. To make use of humans' abilities to recognize patterns in the data.\n",
        "\n",
        "The data is about the \"cars for sale\", which was collected in Summer 2014 from the website _Autotrader.com_,  by one of our MSc student who worked on a data mining project. The data is saved in a CSV file, called **`LondonCars.csv`**."
      ]
    },
    {
      "cell_type": "markdown",
      "metadata": {
        "id": "MGVOTd6ml6NT"
      },
      "source": [
        "---\n",
        "> **Q0:** Why are such files called `CSV`? (Find out what CSV stands for. It may also help to try and open the file using a basic text editor).\n"
      ]
    },
    {
      "cell_type": "markdown",
      "metadata": {
        "id": "dNKGLzR0OTSj"
      },
      "source": [
        "> **A0:** CSV stands for Comma Separated Values. CSV files store each data element, followed by a comma and space\n",
        "---"
      ]
    },
    {
      "cell_type": "markdown",
      "metadata": {
        "id": "JWIebhysUz0v"
      },
      "source": [
        "### 1.1   Upload the CSV file to this machine.\n",
        "\n"
      ]
    },
    {
      "cell_type": "markdown",
      "metadata": {
        "id": "ZvDYSO7gPnfU"
      },
      "source": [
        ">-  On the left side of this page, click on the folder button to \"Open the left pane\".\n",
        "-   From the \"Files\" tab, click on `UPLOAD`\n",
        "- Choose the CSV file that you downloaded from QM+ to your local machine, to be uploaded to *this machine*.\n",
        "\n",
        ">_Note:_ *By \"this machine\", we mean the virtual machine that is allocated to your account and running this notebook, hosted by Google Compute Engine. Note that next time you log in, the file may be gone and needs to be re-uploaded, as Google recycles Virtual machines when they are idle for a while.*"
      ]
    },
    {
      "cell_type": "markdown",
      "metadata": {
        "id": "PTdIsR56Uz0v"
      },
      "source": [
        "### 1.2   Load the dataset from the CSV file:\n",
        "\n"
      ]
    },
    {
      "cell_type": "markdown",
      "metadata": {
        "id": "k0gxX165m7JI"
      },
      "source": [
        "We will use a package in Python called [pandas](https://pandas.pydata.org/): it has many useful features to work with structured data, and is popular for its ease of use (and as is the case for any Python package, it is [open-source](https://github.com/pandas-dev/pandas)).\n"
      ]
    },
    {
      "cell_type": "markdown",
      "metadata": {
        "id": "gFA_eR7m516a"
      },
      "source": [
        "So, let's start by reading the csv file into a `pandas' DataFrame`:\n",
        "\n",
        "(Note that we use **`import`** to (guess what) import a package in Python! We can also assign a different name (alias) to it, usually a shorthand name for convenience. For example, we typically `import pandas as pd`)\n",
        "\n",
        "Execute the following code block.\n",
        "\n",
        "\n",
        "\n",
        "\n"
      ]
    },
    {
      "cell_type": "code",
      "execution_count": 16,
      "metadata": {
        "cellView": "both",
        "id": "KjvGRNGgNnzF"
      },
      "outputs": [],
      "source": [
        "import pandas as pd\n",
        "df = pd.read_csv('./LondonCars2014.csv')"
      ]
    },
    {
      "cell_type": "markdown",
      "metadata": {
        "id": "p_m8B7bVT98P"
      },
      "source": [
        "Let's get more information about the `read_csv` method that we used by executing the following cell:"
      ]
    },
    {
      "cell_type": "code",
      "execution_count": 17,
      "metadata": {
        "id": "zFLpA98_QmZa"
      },
      "outputs": [],
      "source": [
        "pd.read_csv?"
      ]
    },
    {
      "cell_type": "markdown",
      "metadata": {
        "id": "exMOTcLuU20P"
      },
      "source": [
        "---\n",
        "> **Q1:** You should notice that the command has many options. When these options are not specified, their default values are taken. For example, find out what these default values were for our `read_csv`. Also find out, in particular, what the options `sep`, `header`, `index_col`, `usecols`, `dtype`, `na_values`, and `encoding` do."
      ]
    },
    {
      "cell_type": "markdown",
      "metadata": {
        "id": "rt0KmDoOWURV"
      },
      "source": [
        "> **A1:**\n",
        "The default values for the pandas dataframe are as follows:\n",
        "\n",
        "sep: 'str | None | lib.NoDefault' <br>\n",
        "header: \"int | Sequence[int] | None | Literal['infer']\" <br>\n",
        "index_col: 'IndexLabel | Literal[False] | None' <br>\n",
        "usecols=None <br>\n",
        "dtype: 'DtypeArg | None' <br>\n",
        "na_values=None <br>\n",
        "encoding: 'str | None' <br>"
      ]
    },
    {
      "cell_type": "markdown",
      "metadata": {
        "id": "RL0Ba8qkUz0w"
      },
      "source": [
        "### 1.3   Get general information about the data:\n",
        "\n"
      ]
    },
    {
      "cell_type": "markdown",
      "metadata": {
        "id": "_OM7Gcip50oE"
      },
      "source": [
        "So far, we have read the csv file into a variable we called **`df`**: it is a pandas `DataFrame` object that contains the information in the csv file, along with many useful attributes and methods. For instance, let's print the first few entries along with the column names, to get a quick feeling about the data:\n"
      ]
    },
    {
      "cell_type": "code",
      "execution_count": 18,
      "metadata": {
        "id": "OyU38RdluTuA",
        "colab": {
          "base_uri": "https://localhost:8080/",
          "height": 241
        },
        "outputId": "9936a223-8f99-4ed3-f395-157bb2e242c3"
      },
      "outputs": [
        {
          "output_type": "execute_result",
          "data": {
            "text/plain": [
              "      Make                           Model  Year  Mileage  Price Body Style  \\\n",
              "0   Toyota                      Avalon XLE  2014     4725  28995      Sedan   \n",
              "1     Ford                       Escape SE  2014    17201  24994        SUV   \n",
              "2  Hyundai                  Santa Fe Sport  2014     6279  25998        SUV   \n",
              "3     Ford                       Escape SE  2014    16262  26684        SUV   \n",
              "4     Jeep  Grand Cherokee Limited Edition  2014    35572  33440        SUV   \n",
              "\n",
              "  Ex Color In Color Engine Transmission  Doors  \n",
              "0     Gray    Black  6 Cyl    Automatic      4  \n",
              "1   Silver    Black  4 Cyl    Automatic      4  \n",
              "2   Silver     Gray  4 Cyl    Automatic      4  \n",
              "3    Black    Black  4 Cyl    Automatic      4  \n",
              "4    Black    Black  6 Cyl    Automatic      4  "
            ],
            "text/html": [
              "\n",
              "  <div id=\"df-fa94c912-3fd6-4305-a51c-7f4bee992492\" class=\"colab-df-container\">\n",
              "    <div>\n",
              "<style scoped>\n",
              "    .dataframe tbody tr th:only-of-type {\n",
              "        vertical-align: middle;\n",
              "    }\n",
              "\n",
              "    .dataframe tbody tr th {\n",
              "        vertical-align: top;\n",
              "    }\n",
              "\n",
              "    .dataframe thead th {\n",
              "        text-align: right;\n",
              "    }\n",
              "</style>\n",
              "<table border=\"1\" class=\"dataframe\">\n",
              "  <thead>\n",
              "    <tr style=\"text-align: right;\">\n",
              "      <th></th>\n",
              "      <th>Make</th>\n",
              "      <th>Model</th>\n",
              "      <th>Year</th>\n",
              "      <th>Mileage</th>\n",
              "      <th>Price</th>\n",
              "      <th>Body Style</th>\n",
              "      <th>Ex Color</th>\n",
              "      <th>In Color</th>\n",
              "      <th>Engine</th>\n",
              "      <th>Transmission</th>\n",
              "      <th>Doors</th>\n",
              "    </tr>\n",
              "  </thead>\n",
              "  <tbody>\n",
              "    <tr>\n",
              "      <th>0</th>\n",
              "      <td>Toyota</td>\n",
              "      <td>Avalon XLE</td>\n",
              "      <td>2014</td>\n",
              "      <td>4725</td>\n",
              "      <td>28995</td>\n",
              "      <td>Sedan</td>\n",
              "      <td>Gray</td>\n",
              "      <td>Black</td>\n",
              "      <td>6 Cyl</td>\n",
              "      <td>Automatic</td>\n",
              "      <td>4</td>\n",
              "    </tr>\n",
              "    <tr>\n",
              "      <th>1</th>\n",
              "      <td>Ford</td>\n",
              "      <td>Escape SE</td>\n",
              "      <td>2014</td>\n",
              "      <td>17201</td>\n",
              "      <td>24994</td>\n",
              "      <td>SUV</td>\n",
              "      <td>Silver</td>\n",
              "      <td>Black</td>\n",
              "      <td>4 Cyl</td>\n",
              "      <td>Automatic</td>\n",
              "      <td>4</td>\n",
              "    </tr>\n",
              "    <tr>\n",
              "      <th>2</th>\n",
              "      <td>Hyundai</td>\n",
              "      <td>Santa Fe Sport</td>\n",
              "      <td>2014</td>\n",
              "      <td>6279</td>\n",
              "      <td>25998</td>\n",
              "      <td>SUV</td>\n",
              "      <td>Silver</td>\n",
              "      <td>Gray</td>\n",
              "      <td>4 Cyl</td>\n",
              "      <td>Automatic</td>\n",
              "      <td>4</td>\n",
              "    </tr>\n",
              "    <tr>\n",
              "      <th>3</th>\n",
              "      <td>Ford</td>\n",
              "      <td>Escape SE</td>\n",
              "      <td>2014</td>\n",
              "      <td>16262</td>\n",
              "      <td>26684</td>\n",
              "      <td>SUV</td>\n",
              "      <td>Black</td>\n",
              "      <td>Black</td>\n",
              "      <td>4 Cyl</td>\n",
              "      <td>Automatic</td>\n",
              "      <td>4</td>\n",
              "    </tr>\n",
              "    <tr>\n",
              "      <th>4</th>\n",
              "      <td>Jeep</td>\n",
              "      <td>Grand Cherokee Limited Edition</td>\n",
              "      <td>2014</td>\n",
              "      <td>35572</td>\n",
              "      <td>33440</td>\n",
              "      <td>SUV</td>\n",
              "      <td>Black</td>\n",
              "      <td>Black</td>\n",
              "      <td>6 Cyl</td>\n",
              "      <td>Automatic</td>\n",
              "      <td>4</td>\n",
              "    </tr>\n",
              "  </tbody>\n",
              "</table>\n",
              "</div>\n",
              "    <div class=\"colab-df-buttons\">\n",
              "\n",
              "  <div class=\"colab-df-container\">\n",
              "    <button class=\"colab-df-convert\" onclick=\"convertToInteractive('df-fa94c912-3fd6-4305-a51c-7f4bee992492')\"\n",
              "            title=\"Convert this dataframe to an interactive table.\"\n",
              "            style=\"display:none;\">\n",
              "\n",
              "  <svg xmlns=\"http://www.w3.org/2000/svg\" height=\"24px\" viewBox=\"0 -960 960 960\">\n",
              "    <path d=\"M120-120v-720h720v720H120Zm60-500h600v-160H180v160Zm220 220h160v-160H400v160Zm0 220h160v-160H400v160ZM180-400h160v-160H180v160Zm440 0h160v-160H620v160ZM180-180h160v-160H180v160Zm440 0h160v-160H620v160Z\"/>\n",
              "  </svg>\n",
              "    </button>\n",
              "\n",
              "  <style>\n",
              "    .colab-df-container {\n",
              "      display:flex;\n",
              "      gap: 12px;\n",
              "    }\n",
              "\n",
              "    .colab-df-convert {\n",
              "      background-color: #E8F0FE;\n",
              "      border: none;\n",
              "      border-radius: 50%;\n",
              "      cursor: pointer;\n",
              "      display: none;\n",
              "      fill: #1967D2;\n",
              "      height: 32px;\n",
              "      padding: 0 0 0 0;\n",
              "      width: 32px;\n",
              "    }\n",
              "\n",
              "    .colab-df-convert:hover {\n",
              "      background-color: #E2EBFA;\n",
              "      box-shadow: 0px 1px 2px rgba(60, 64, 67, 0.3), 0px 1px 3px 1px rgba(60, 64, 67, 0.15);\n",
              "      fill: #174EA6;\n",
              "    }\n",
              "\n",
              "    .colab-df-buttons div {\n",
              "      margin-bottom: 4px;\n",
              "    }\n",
              "\n",
              "    [theme=dark] .colab-df-convert {\n",
              "      background-color: #3B4455;\n",
              "      fill: #D2E3FC;\n",
              "    }\n",
              "\n",
              "    [theme=dark] .colab-df-convert:hover {\n",
              "      background-color: #434B5C;\n",
              "      box-shadow: 0px 1px 3px 1px rgba(0, 0, 0, 0.15);\n",
              "      filter: drop-shadow(0px 1px 2px rgba(0, 0, 0, 0.3));\n",
              "      fill: #FFFFFF;\n",
              "    }\n",
              "  </style>\n",
              "\n",
              "    <script>\n",
              "      const buttonEl =\n",
              "        document.querySelector('#df-fa94c912-3fd6-4305-a51c-7f4bee992492 button.colab-df-convert');\n",
              "      buttonEl.style.display =\n",
              "        google.colab.kernel.accessAllowed ? 'block' : 'none';\n",
              "\n",
              "      async function convertToInteractive(key) {\n",
              "        const element = document.querySelector('#df-fa94c912-3fd6-4305-a51c-7f4bee992492');\n",
              "        const dataTable =\n",
              "          await google.colab.kernel.invokeFunction('convertToInteractive',\n",
              "                                                    [key], {});\n",
              "        if (!dataTable) return;\n",
              "\n",
              "        const docLinkHtml = 'Like what you see? Visit the ' +\n",
              "          '<a target=\"_blank\" href=https://colab.research.google.com/notebooks/data_table.ipynb>data table notebook</a>'\n",
              "          + ' to learn more about interactive tables.';\n",
              "        element.innerHTML = '';\n",
              "        dataTable['output_type'] = 'display_data';\n",
              "        await google.colab.output.renderOutput(dataTable, element);\n",
              "        const docLink = document.createElement('div');\n",
              "        docLink.innerHTML = docLinkHtml;\n",
              "        element.appendChild(docLink);\n",
              "      }\n",
              "    </script>\n",
              "  </div>\n",
              "\n",
              "\n",
              "<div id=\"df-595eae8e-01d1-4df9-8203-6b23956600f9\">\n",
              "  <button class=\"colab-df-quickchart\" onclick=\"quickchart('df-595eae8e-01d1-4df9-8203-6b23956600f9')\"\n",
              "            title=\"Suggest charts.\"\n",
              "            style=\"display:none;\">\n",
              "\n",
              "<svg xmlns=\"http://www.w3.org/2000/svg\" height=\"24px\"viewBox=\"0 0 24 24\"\n",
              "     width=\"24px\">\n",
              "    <g>\n",
              "        <path d=\"M19 3H5c-1.1 0-2 .9-2 2v14c0 1.1.9 2 2 2h14c1.1 0 2-.9 2-2V5c0-1.1-.9-2-2-2zM9 17H7v-7h2v7zm4 0h-2V7h2v10zm4 0h-2v-4h2v4z\"/>\n",
              "    </g>\n",
              "</svg>\n",
              "  </button>\n",
              "\n",
              "<style>\n",
              "  .colab-df-quickchart {\n",
              "      --bg-color: #E8F0FE;\n",
              "      --fill-color: #1967D2;\n",
              "      --hover-bg-color: #E2EBFA;\n",
              "      --hover-fill-color: #174EA6;\n",
              "      --disabled-fill-color: #AAA;\n",
              "      --disabled-bg-color: #DDD;\n",
              "  }\n",
              "\n",
              "  [theme=dark] .colab-df-quickchart {\n",
              "      --bg-color: #3B4455;\n",
              "      --fill-color: #D2E3FC;\n",
              "      --hover-bg-color: #434B5C;\n",
              "      --hover-fill-color: #FFFFFF;\n",
              "      --disabled-bg-color: #3B4455;\n",
              "      --disabled-fill-color: #666;\n",
              "  }\n",
              "\n",
              "  .colab-df-quickchart {\n",
              "    background-color: var(--bg-color);\n",
              "    border: none;\n",
              "    border-radius: 50%;\n",
              "    cursor: pointer;\n",
              "    display: none;\n",
              "    fill: var(--fill-color);\n",
              "    height: 32px;\n",
              "    padding: 0;\n",
              "    width: 32px;\n",
              "  }\n",
              "\n",
              "  .colab-df-quickchart:hover {\n",
              "    background-color: var(--hover-bg-color);\n",
              "    box-shadow: 0 1px 2px rgba(60, 64, 67, 0.3), 0 1px 3px 1px rgba(60, 64, 67, 0.15);\n",
              "    fill: var(--button-hover-fill-color);\n",
              "  }\n",
              "\n",
              "  .colab-df-quickchart-complete:disabled,\n",
              "  .colab-df-quickchart-complete:disabled:hover {\n",
              "    background-color: var(--disabled-bg-color);\n",
              "    fill: var(--disabled-fill-color);\n",
              "    box-shadow: none;\n",
              "  }\n",
              "\n",
              "  .colab-df-spinner {\n",
              "    border: 2px solid var(--fill-color);\n",
              "    border-color: transparent;\n",
              "    border-bottom-color: var(--fill-color);\n",
              "    animation:\n",
              "      spin 1s steps(1) infinite;\n",
              "  }\n",
              "\n",
              "  @keyframes spin {\n",
              "    0% {\n",
              "      border-color: transparent;\n",
              "      border-bottom-color: var(--fill-color);\n",
              "      border-left-color: var(--fill-color);\n",
              "    }\n",
              "    20% {\n",
              "      border-color: transparent;\n",
              "      border-left-color: var(--fill-color);\n",
              "      border-top-color: var(--fill-color);\n",
              "    }\n",
              "    30% {\n",
              "      border-color: transparent;\n",
              "      border-left-color: var(--fill-color);\n",
              "      border-top-color: var(--fill-color);\n",
              "      border-right-color: var(--fill-color);\n",
              "    }\n",
              "    40% {\n",
              "      border-color: transparent;\n",
              "      border-right-color: var(--fill-color);\n",
              "      border-top-color: var(--fill-color);\n",
              "    }\n",
              "    60% {\n",
              "      border-color: transparent;\n",
              "      border-right-color: var(--fill-color);\n",
              "    }\n",
              "    80% {\n",
              "      border-color: transparent;\n",
              "      border-right-color: var(--fill-color);\n",
              "      border-bottom-color: var(--fill-color);\n",
              "    }\n",
              "    90% {\n",
              "      border-color: transparent;\n",
              "      border-bottom-color: var(--fill-color);\n",
              "    }\n",
              "  }\n",
              "</style>\n",
              "\n",
              "  <script>\n",
              "    async function quickchart(key) {\n",
              "      const quickchartButtonEl =\n",
              "        document.querySelector('#' + key + ' button');\n",
              "      quickchartButtonEl.disabled = true;  // To prevent multiple clicks.\n",
              "      quickchartButtonEl.classList.add('colab-df-spinner');\n",
              "      try {\n",
              "        const charts = await google.colab.kernel.invokeFunction(\n",
              "            'suggestCharts', [key], {});\n",
              "      } catch (error) {\n",
              "        console.error('Error during call to suggestCharts:', error);\n",
              "      }\n",
              "      quickchartButtonEl.classList.remove('colab-df-spinner');\n",
              "      quickchartButtonEl.classList.add('colab-df-quickchart-complete');\n",
              "    }\n",
              "    (() => {\n",
              "      let quickchartButtonEl =\n",
              "        document.querySelector('#df-595eae8e-01d1-4df9-8203-6b23956600f9 button');\n",
              "      quickchartButtonEl.style.display =\n",
              "        google.colab.kernel.accessAllowed ? 'block' : 'none';\n",
              "    })();\n",
              "  </script>\n",
              "</div>\n",
              "    </div>\n",
              "  </div>\n"
            ]
          },
          "metadata": {},
          "execution_count": 18
        }
      ],
      "source": [
        "df.head()"
      ]
    },
    {
      "cell_type": "markdown",
      "metadata": {
        "id": "14A7tQYoV8PH"
      },
      "source": [
        "We still don't know if the data-types are read correctly, we didn't specify them. The `info` method gives us a summary information:"
      ]
    },
    {
      "cell_type": "code",
      "execution_count": 28,
      "metadata": {
        "id": "cOKXPWk3N6sm",
        "colab": {
          "base_uri": "https://localhost:8080/"
        },
        "outputId": "c5efb086-5a59-4984-999d-a75f68dcf92d"
      },
      "outputs": [
        {
          "output_type": "stream",
          "name": "stdout",
          "text": [
            "<class 'pandas.core.frame.DataFrame'>\n",
            "RangeIndex: 9080 entries, 0 to 9079\n",
            "Data columns (total 11 columns):\n",
            " #   Column        Non-Null Count  Dtype   \n",
            "---  ------        --------------  -----   \n",
            " 0   Make          9080 non-null   category\n",
            " 1   Model         9080 non-null   category\n",
            " 2   Year          9080 non-null   category\n",
            " 3   Mileage       9080 non-null   int32   \n",
            " 4   Price         9080 non-null   int64   \n",
            " 5   Body Style    9080 non-null   category\n",
            " 6   Ex Color      9080 non-null   category\n",
            " 7   In Color      9080 non-null   category\n",
            " 8   Engine        9080 non-null   category\n",
            " 9   Transmission  9080 non-null   category\n",
            " 10  Doors         9080 non-null   category\n",
            "dtypes: category(9), int32(1), int64(1)\n",
            "memory usage: 239.9 KB\n"
          ]
        }
      ],
      "source": [
        "df.info()"
      ]
    },
    {
      "cell_type": "markdown",
      "metadata": {
        "id": "C5LylI4xWT9N"
      },
      "source": [
        "You should notice that the data-types are not exactly correct. For instance, the type for the `Doors` attribute (column) is inferred as numeric (64-bit integer), but this is wrong (why?).\n",
        "\n",
        "So let's fix them!"
      ]
    },
    {
      "cell_type": "code",
      "execution_count": 27,
      "metadata": {
        "id": "vZjVv-6mXrAe"
      },
      "outputs": [],
      "source": [
        "df = df.astype({'Make':'category', 'Model':'category', 'Year':'category',\n",
        "                'Mileage':'int32', 'Price':'int64', 'Body Style':'category',\n",
        "                'Ex Color':'category' , 'In Color':'category',\n",
        "                'Engine':'category', 'Transmission':'category', 'Doors':'category'})"
      ]
    },
    {
      "cell_type": "code",
      "metadata": {
        "id": "CivnwTo2ZtME"
      },
      "source": [
        "Now, use the `info` method again to check if it had the desired effect:"
      ],
      "execution_count": null,
      "outputs": []
    },
    {
      "cell_type": "markdown",
      "metadata": {
        "id": "jeNSjWhdcFu6"
      },
      "source": [
        "---\n",
        "> **Q2:** You should also notice a change between the reported `memory usage` (the last line reported by the `info` method). What is the change? How do you explain the change?"
      ]
    },
    {
      "cell_type": "markdown",
      "metadata": {
        "id": "id8BF8wvb9g8"
      },
      "source": [
        "> **A2:**\n",
        "The total memory usage goes from 309KB to 240KB.\n",
        "This is because there is a lot of wasted memory when storing a single digit number as a 64 bit integer.\n",
        "Whereas storing the door number in category will be a lot more memory efficient"
      ]
    },
    {
      "cell_type": "markdown",
      "metadata": {
        "id": "HG2CamjdPfFs"
      },
      "source": [
        "\n",
        "\n",
        "## 2. Basic exploratory questions using Python\n",
        "\n"
      ]
    },
    {
      "cell_type": "markdown",
      "metadata": {
        "id": "Ox0fWBuIUz0x"
      },
      "source": [
        "Here we compute various summary statistics, which are quantities, such as the mean and standard deviation, that capture various characteristics of a potentially large set of values with a single number or a small set of numbers.\n"
      ]
    },
    {
      "cell_type": "markdown",
      "metadata": {
        "id": "8yo2wMMFdINB"
      },
      "source": [
        "---\n",
        "> **Q3:** Use the provided hints to answer the questions about exploring your dataset."
      ]
    },
    {
      "cell_type": "markdown",
      "metadata": {
        "id": "LIDYDNj7TJdd"
      },
      "source": [
        "> a. How many instances does the dataset have?"
      ]
    },
    {
      "cell_type": "code",
      "execution_count": 29,
      "metadata": {
        "id": "PHyGIQ2OTwfl",
        "colab": {
          "base_uri": "https://localhost:8080/"
        },
        "outputId": "c70d5eb6-c670-494a-971f-f06ce74cfb22"
      },
      "outputs": [
        {
          "output_type": "stream",
          "name": "stdout",
          "text": [
            "(9080, 11)\n"
          ]
        }
      ],
      "source": [
        "# hint: interpret the output of the following code:\n",
        "print(df.shape)"
      ]
    },
    {
      "cell_type": "markdown",
      "source": [
        "Answer: 9080"
      ],
      "metadata": {
        "id": "cABu6SZtNilA"
      }
    },
    {
      "cell_type": "markdown",
      "metadata": {
        "id": "IGbvaybkUIUR"
      },
      "source": [
        "> b. How many attributes?"
      ]
    },
    {
      "cell_type": "code",
      "execution_count": 30,
      "metadata": {
        "id": "Lq38Z5FVRQ5i",
        "colab": {
          "base_uri": "https://localhost:8080/"
        },
        "outputId": "3debba64-8418-405b-e735-952e34f63405"
      },
      "outputs": [
        {
          "output_type": "stream",
          "name": "stdout",
          "text": [
            "(9080, 11)\n"
          ]
        }
      ],
      "source": [
        "# again, you can answer the question by interpreting the output of the same code:\n",
        "print(df.shape)"
      ]
    },
    {
      "cell_type": "markdown",
      "source": [
        "Answer: 11"
      ],
      "metadata": {
        "id": "jzZlF2FZNlO4"
      }
    },
    {
      "cell_type": "markdown",
      "metadata": {
        "id": "8SPh2orQW8KG"
      },
      "source": [
        "> c. What are the attributes?"
      ]
    },
    {
      "cell_type": "code",
      "execution_count": 31,
      "metadata": {
        "id": "BzDyp-DvXDiw",
        "colab": {
          "base_uri": "https://localhost:8080/"
        },
        "outputId": "a4300cf8-7300-4b01-ff41-30bd99bfab64"
      },
      "outputs": [
        {
          "output_type": "stream",
          "name": "stdout",
          "text": [
            "Index(['Make', 'Model', 'Year', 'Mileage', 'Price', 'Body Style', 'Ex Color',\n",
            "       'In Color', 'Engine', 'Transmission', 'Doors'],\n",
            "      dtype='object')\n"
          ]
        }
      ],
      "source": [
        "# a pandas dataframe has an attribute called columns:\n",
        "print(df.columns)"
      ]
    },
    {
      "cell_type": "markdown",
      "source": [
        "The 11 attributes are: Make, Model, Year, Mileage, Price, Body Style, Ex Color, In Color, Engine, Transmission, Doors"
      ],
      "metadata": {
        "id": "zdeBY55oNo8H"
      }
    },
    {
      "cell_type": "markdown",
      "metadata": {
        "id": "5CvTYxKMXQ_5"
      },
      "source": [
        "> d. What are the possible values for **Body Style** & **External Color**?"
      ]
    },
    {
      "cell_type": "code",
      "execution_count": 38,
      "metadata": {
        "id": "-bIdyCeWXhFG",
        "colab": {
          "base_uri": "https://localhost:8080/"
        },
        "outputId": "bee6c6d7-9193-4bb9-999a-db299e85f691"
      },
      "outputs": [
        {
          "output_type": "stream",
          "name": "stdout",
          "text": [
            "Possible body styles:\n",
            "['Sedan', 'SUV', 'Hatchback', 'Wagon', 'Coupe', 'Minivan', 'Van', 'Pickup', 'Convertible', 'Chassis']\n",
            "Categories (10, object): ['Chassis', 'Convertible', 'Coupe', 'Hatchback', ..., 'SUV', 'Sedan', 'Van',\n",
            "                          'Wagon']\n",
            "Possible external colours:\n",
            "Gray\n",
            "Silver\n",
            "Black\n",
            "White\n",
            "Red\n",
            "Blue\n",
            "Brown\n",
            "Purple\n",
            "Green\n",
            "Gold\n",
            "Orange\n",
            "Beige\n",
            "Yellow\n",
            "Bronze\n",
            "Pink\n"
          ]
        }
      ],
      "source": [
        "# the \"unique\" method helps:\n",
        "print('Possible body styles:')\n",
        "print(df['Body Style'].unique())\n",
        "\n",
        "# now your turn, for external colour:\n",
        "print('Possible external colours:')\n",
        "\n",
        "temp = df['Ex Color'].unique()\n",
        "for t in temp:\n",
        "  print(t)"
      ]
    },
    {
      "cell_type": "markdown",
      "source": [
        "All possible Body Styles:\n",
        "['Sedan', 'SUV', 'Hatchback', 'Wagon', 'Coupe', 'Minivan', 'Van', 'Pickup', 'Convertible', 'Chassis'] <br> <br>\n",
        "\n",
        "All possible External Colors:\n",
        "Gray,\n",
        "Silver,\n",
        "Black,\n",
        "White,\n",
        "Red,\n",
        "Blue,\n",
        "Brown,\n",
        "Purple,\n",
        "Green,\n",
        "Gold,\n",
        "Orange,\n",
        "Beige,\n",
        "Yellow,\n",
        "Bronze,\n",
        "Pink,"
      ],
      "metadata": {
        "id": "po6HzFYHNwVB"
      }
    },
    {
      "cell_type": "markdown",
      "metadata": {
        "id": "nNED-99zZf6w"
      },
      "source": [
        "> e. What is the *minimum*, *maximum*, *average*, *median* and *standard deviation* price?"
      ]
    },
    {
      "cell_type": "code",
      "execution_count": 41,
      "metadata": {
        "id": "NRvSaH7IZppP",
        "colab": {
          "base_uri": "https://localhost:8080/"
        },
        "outputId": "2f81f966-e7ae-45b4-c974-192ef92118c2"
      },
      "outputs": [
        {
          "output_type": "stream",
          "name": "stdout",
          "text": [
            "min = 1490\n",
            "max = 499898\n",
            "mean = 24410.92665198238\n",
            "median = 21500.0\n",
            "Standard deviation = 16300.355338946358\n"
          ]
        }
      ],
      "source": [
        "# these are easy, to get the minimum:\n",
        "print('min = {}'.format(df['Price'].min()))\n",
        "# now, you do the rest:\n",
        "print('max = {}'.format(df['Price'].max()))\n",
        "print('mean = {}'.format(df['Price'].mean()))\n",
        "print('median = {}'.format(df['Price'].median()))\n",
        "print('Standard deviation = {}'.format(df['Price'].std()))"
      ]
    },
    {
      "cell_type": "markdown",
      "source": [
        "min = 1490\n",
        "max = 499898\n",
        "mean = 24410.92665198238\n",
        "median = 21500.0\n",
        "Standard deviation = 16300.355338946358"
      ],
      "metadata": {
        "id": "PXVXriPJQtox"
      }
    },
    {
      "cell_type": "markdown",
      "metadata": {
        "id": "vm4fAH2RbHuX"
      },
      "source": [
        "> f. Why might the median price be different than the average price?"
      ]
    },
    {
      "cell_type": "markdown",
      "source": [
        "The median price may be different from the average price because the car prices may skew upwards or downwards, causing the mean to be either larger or smaller than the average"
      ],
      "metadata": {
        "id": "5FyCvLw6QvZM"
      }
    },
    {
      "cell_type": "markdown",
      "metadata": {
        "id": "Yk9PQPvIbQpl"
      },
      "source": [
        "> g. What is the most common year of car?"
      ]
    },
    {
      "cell_type": "code",
      "execution_count": 42,
      "metadata": {
        "id": "b2mcEe-hbrpc",
        "colab": {
          "base_uri": "https://localhost:8080/"
        },
        "outputId": "eda15afb-5051-4465-e21d-c13cb0082099"
      },
      "outputs": [
        {
          "output_type": "stream",
          "name": "stdout",
          "text": [
            "0    2011\n",
            "Name: Year, dtype: category\n",
            "Categories (24, int64): [1990, 1993, 1994, 1995, ..., 2012, 2013, 2014, 2015]\n"
          ]
        }
      ],
      "source": [
        "# hint: you can either use the 'mode()' method,\n",
        "# or the value_counts() along with idxmax()\n",
        "print(df['Year'].mode())"
      ]
    },
    {
      "cell_type": "markdown",
      "source": [
        "The most common year of car is 2011"
      ],
      "metadata": {
        "id": "ZiGnIdBvRbyI"
      }
    },
    {
      "cell_type": "markdown",
      "metadata": {
        "id": "BbxDhMO0dj6h"
      },
      "source": [
        "> h. What is the average price of a Honda car and what is the average price a Mercedes-Benz car? **Hint:** Try $\\texttt{df.loc}$."
      ]
    },
    {
      "cell_type": "code",
      "execution_count": 44,
      "metadata": {
        "id": "T6yes3WGdvJ2",
        "colab": {
          "base_uri": "https://localhost:8080/"
        },
        "outputId": "24408e2f-c6eb-4da5-89b1-5947128f9217"
      },
      "outputs": [
        {
          "output_type": "stream",
          "name": "stdout",
          "text": [
            "Average price of a Honda car = 18337.49\n",
            "Average price of a Mercedes-Benz car = 37620.97\n"
          ]
        }
      ],
      "source": [
        "# For Honda:\n",
        "print('Average price of a Honda car = {:.2f}'.format(df.loc[df['Make'] == 'Honda']['Price'].mean()))\n",
        "# Now you do for Mercedes-Benz:\n",
        "print('Average price of a Mercedes-Benz car = {:.2f}'.format(df.loc[df['Make'] == \"Mercedes-Benz\"]['Price'].mean()))"
      ]
    },
    {
      "cell_type": "markdown",
      "source": [
        "The average price for a Honda is 18337.49\n",
        "The average price for a Mercedes-Benz is 37620.97"
      ],
      "metadata": {
        "id": "P9UDGgd2Rzx3"
      }
    },
    {
      "cell_type": "markdown",
      "metadata": {
        "id": "2XLXYcq7cd9F"
      },
      "source": [
        "> i. What is the ratio of 2-door to 4-door cars?"
      ]
    },
    {
      "cell_type": "code",
      "execution_count": 61,
      "metadata": {
        "id": "fZrDVln8bAVc",
        "colab": {
          "base_uri": "https://localhost:8080/"
        },
        "outputId": "45ef40eb-7b24-4619-ca9d-3cf55417c569"
      },
      "outputs": [
        {
          "output_type": "stream",
          "name": "stdout",
          "text": [
            "4    8221\n",
            "2     766\n",
            "3      93\n",
            "Name: Doors, dtype: int64\n",
            "The ratio of 2-door to 4-door cars is: ?\n",
            "0.01131249239751855\n"
          ]
        }
      ],
      "source": [
        "# Hint: you can use the output of the value_counts()...\n",
        "print(df['Doors'].value_counts())\n",
        "print('The ratio of 2-door to 4-door cars is: {}'.format('?'))\n",
        "print(df['Doors'].value_counts().tolist()[2] / df['Doors'].value_counts().tolist()[0])"
      ]
    },
    {
      "cell_type": "markdown",
      "source": [
        "The ratio of 2-door to 4-door cars is approximately 0.0113 to 1"
      ],
      "metadata": {
        "id": "0UnG6_G4TkLO"
      }
    },
    {
      "cell_type": "markdown",
      "metadata": {
        "id": "I_7W7OBhUz0z"
      },
      "source": [
        "> j. It is also possible to display the summary for all the attributes simultaneously in a table using the describe() function. If an attribute is quantitative, it will display its mean, standard deviation and various quantiles (including minimum, median, and maximum) values. If an attribute is qualitative, it will display its number of unique values and the top (most frequent) values.\n",
        "\n",
        "**<font color=\"red\"></font>**"
      ]
    },
    {
      "cell_type": "code",
      "execution_count": 64,
      "metadata": {
        "id": "qEKDl_9sUz0z",
        "colab": {
          "base_uri": "https://localhost:8080/",
          "height": 429
        },
        "outputId": "79dcc3ec-7000-480d-bbd7-c02bbd0b6bb9"
      },
      "outputs": [
        {
          "output_type": "execute_result",
          "data": {
            "text/plain": [
              "          Make     Model    Year        Mileage          Price Body Style  \\\n",
              "count     9080      9080  9080.0    9080.000000    9080.000000       9080   \n",
              "unique      49      1060    24.0            NaN            NaN         10   \n",
              "top     Nissan  Altima S  2011.0            NaN            NaN      Sedan   \n",
              "freq      1035       197  2641.0            NaN            NaN       3905   \n",
              "mean       NaN       NaN     NaN   41875.531057   24410.926652        NaN   \n",
              "std        NaN       NaN     NaN   33146.564303   16300.355339        NaN   \n",
              "min        NaN       NaN     NaN       1.000000    1490.000000        NaN   \n",
              "25%        NaN       NaN     NaN   20112.250000   15987.750000        NaN   \n",
              "50%        NaN       NaN     NaN   33532.000000   21500.000000        NaN   \n",
              "75%        NaN       NaN     NaN   52564.500000   28998.000000        NaN   \n",
              "max        NaN       NaN     NaN  279950.000000  499898.000000        NaN   \n",
              "\n",
              "       Ex Color In Color Engine Transmission   Doors  \n",
              "count      9080     9080   9080         9080  9080.0  \n",
              "unique       15        9     10            2     3.0  \n",
              "top       Black    Black  6 Cyl    Automatic     4.0  \n",
              "freq       2404     4164   4313         8797  8221.0  \n",
              "mean        NaN      NaN    NaN          NaN     NaN  \n",
              "std         NaN      NaN    NaN          NaN     NaN  \n",
              "min         NaN      NaN    NaN          NaN     NaN  \n",
              "25%         NaN      NaN    NaN          NaN     NaN  \n",
              "50%         NaN      NaN    NaN          NaN     NaN  \n",
              "75%         NaN      NaN    NaN          NaN     NaN  \n",
              "max         NaN      NaN    NaN          NaN     NaN  "
            ],
            "text/html": [
              "\n",
              "  <div id=\"df-349d7c33-6d0a-4beb-ba4d-a82c1372ee8c\" class=\"colab-df-container\">\n",
              "    <div>\n",
              "<style scoped>\n",
              "    .dataframe tbody tr th:only-of-type {\n",
              "        vertical-align: middle;\n",
              "    }\n",
              "\n",
              "    .dataframe tbody tr th {\n",
              "        vertical-align: top;\n",
              "    }\n",
              "\n",
              "    .dataframe thead th {\n",
              "        text-align: right;\n",
              "    }\n",
              "</style>\n",
              "<table border=\"1\" class=\"dataframe\">\n",
              "  <thead>\n",
              "    <tr style=\"text-align: right;\">\n",
              "      <th></th>\n",
              "      <th>Make</th>\n",
              "      <th>Model</th>\n",
              "      <th>Year</th>\n",
              "      <th>Mileage</th>\n",
              "      <th>Price</th>\n",
              "      <th>Body Style</th>\n",
              "      <th>Ex Color</th>\n",
              "      <th>In Color</th>\n",
              "      <th>Engine</th>\n",
              "      <th>Transmission</th>\n",
              "      <th>Doors</th>\n",
              "    </tr>\n",
              "  </thead>\n",
              "  <tbody>\n",
              "    <tr>\n",
              "      <th>count</th>\n",
              "      <td>9080</td>\n",
              "      <td>9080</td>\n",
              "      <td>9080.0</td>\n",
              "      <td>9080.000000</td>\n",
              "      <td>9080.000000</td>\n",
              "      <td>9080</td>\n",
              "      <td>9080</td>\n",
              "      <td>9080</td>\n",
              "      <td>9080</td>\n",
              "      <td>9080</td>\n",
              "      <td>9080.0</td>\n",
              "    </tr>\n",
              "    <tr>\n",
              "      <th>unique</th>\n",
              "      <td>49</td>\n",
              "      <td>1060</td>\n",
              "      <td>24.0</td>\n",
              "      <td>NaN</td>\n",
              "      <td>NaN</td>\n",
              "      <td>10</td>\n",
              "      <td>15</td>\n",
              "      <td>9</td>\n",
              "      <td>10</td>\n",
              "      <td>2</td>\n",
              "      <td>3.0</td>\n",
              "    </tr>\n",
              "    <tr>\n",
              "      <th>top</th>\n",
              "      <td>Nissan</td>\n",
              "      <td>Altima S</td>\n",
              "      <td>2011.0</td>\n",
              "      <td>NaN</td>\n",
              "      <td>NaN</td>\n",
              "      <td>Sedan</td>\n",
              "      <td>Black</td>\n",
              "      <td>Black</td>\n",
              "      <td>6 Cyl</td>\n",
              "      <td>Automatic</td>\n",
              "      <td>4.0</td>\n",
              "    </tr>\n",
              "    <tr>\n",
              "      <th>freq</th>\n",
              "      <td>1035</td>\n",
              "      <td>197</td>\n",
              "      <td>2641.0</td>\n",
              "      <td>NaN</td>\n",
              "      <td>NaN</td>\n",
              "      <td>3905</td>\n",
              "      <td>2404</td>\n",
              "      <td>4164</td>\n",
              "      <td>4313</td>\n",
              "      <td>8797</td>\n",
              "      <td>8221.0</td>\n",
              "    </tr>\n",
              "    <tr>\n",
              "      <th>mean</th>\n",
              "      <td>NaN</td>\n",
              "      <td>NaN</td>\n",
              "      <td>NaN</td>\n",
              "      <td>41875.531057</td>\n",
              "      <td>24410.926652</td>\n",
              "      <td>NaN</td>\n",
              "      <td>NaN</td>\n",
              "      <td>NaN</td>\n",
              "      <td>NaN</td>\n",
              "      <td>NaN</td>\n",
              "      <td>NaN</td>\n",
              "    </tr>\n",
              "    <tr>\n",
              "      <th>std</th>\n",
              "      <td>NaN</td>\n",
              "      <td>NaN</td>\n",
              "      <td>NaN</td>\n",
              "      <td>33146.564303</td>\n",
              "      <td>16300.355339</td>\n",
              "      <td>NaN</td>\n",
              "      <td>NaN</td>\n",
              "      <td>NaN</td>\n",
              "      <td>NaN</td>\n",
              "      <td>NaN</td>\n",
              "      <td>NaN</td>\n",
              "    </tr>\n",
              "    <tr>\n",
              "      <th>min</th>\n",
              "      <td>NaN</td>\n",
              "      <td>NaN</td>\n",
              "      <td>NaN</td>\n",
              "      <td>1.000000</td>\n",
              "      <td>1490.000000</td>\n",
              "      <td>NaN</td>\n",
              "      <td>NaN</td>\n",
              "      <td>NaN</td>\n",
              "      <td>NaN</td>\n",
              "      <td>NaN</td>\n",
              "      <td>NaN</td>\n",
              "    </tr>\n",
              "    <tr>\n",
              "      <th>25%</th>\n",
              "      <td>NaN</td>\n",
              "      <td>NaN</td>\n",
              "      <td>NaN</td>\n",
              "      <td>20112.250000</td>\n",
              "      <td>15987.750000</td>\n",
              "      <td>NaN</td>\n",
              "      <td>NaN</td>\n",
              "      <td>NaN</td>\n",
              "      <td>NaN</td>\n",
              "      <td>NaN</td>\n",
              "      <td>NaN</td>\n",
              "    </tr>\n",
              "    <tr>\n",
              "      <th>50%</th>\n",
              "      <td>NaN</td>\n",
              "      <td>NaN</td>\n",
              "      <td>NaN</td>\n",
              "      <td>33532.000000</td>\n",
              "      <td>21500.000000</td>\n",
              "      <td>NaN</td>\n",
              "      <td>NaN</td>\n",
              "      <td>NaN</td>\n",
              "      <td>NaN</td>\n",
              "      <td>NaN</td>\n",
              "      <td>NaN</td>\n",
              "    </tr>\n",
              "    <tr>\n",
              "      <th>75%</th>\n",
              "      <td>NaN</td>\n",
              "      <td>NaN</td>\n",
              "      <td>NaN</td>\n",
              "      <td>52564.500000</td>\n",
              "      <td>28998.000000</td>\n",
              "      <td>NaN</td>\n",
              "      <td>NaN</td>\n",
              "      <td>NaN</td>\n",
              "      <td>NaN</td>\n",
              "      <td>NaN</td>\n",
              "      <td>NaN</td>\n",
              "    </tr>\n",
              "    <tr>\n",
              "      <th>max</th>\n",
              "      <td>NaN</td>\n",
              "      <td>NaN</td>\n",
              "      <td>NaN</td>\n",
              "      <td>279950.000000</td>\n",
              "      <td>499898.000000</td>\n",
              "      <td>NaN</td>\n",
              "      <td>NaN</td>\n",
              "      <td>NaN</td>\n",
              "      <td>NaN</td>\n",
              "      <td>NaN</td>\n",
              "      <td>NaN</td>\n",
              "    </tr>\n",
              "  </tbody>\n",
              "</table>\n",
              "</div>\n",
              "    <div class=\"colab-df-buttons\">\n",
              "\n",
              "  <div class=\"colab-df-container\">\n",
              "    <button class=\"colab-df-convert\" onclick=\"convertToInteractive('df-349d7c33-6d0a-4beb-ba4d-a82c1372ee8c')\"\n",
              "            title=\"Convert this dataframe to an interactive table.\"\n",
              "            style=\"display:none;\">\n",
              "\n",
              "  <svg xmlns=\"http://www.w3.org/2000/svg\" height=\"24px\" viewBox=\"0 -960 960 960\">\n",
              "    <path d=\"M120-120v-720h720v720H120Zm60-500h600v-160H180v160Zm220 220h160v-160H400v160Zm0 220h160v-160H400v160ZM180-400h160v-160H180v160Zm440 0h160v-160H620v160ZM180-180h160v-160H180v160Zm440 0h160v-160H620v160Z\"/>\n",
              "  </svg>\n",
              "    </button>\n",
              "\n",
              "  <style>\n",
              "    .colab-df-container {\n",
              "      display:flex;\n",
              "      gap: 12px;\n",
              "    }\n",
              "\n",
              "    .colab-df-convert {\n",
              "      background-color: #E8F0FE;\n",
              "      border: none;\n",
              "      border-radius: 50%;\n",
              "      cursor: pointer;\n",
              "      display: none;\n",
              "      fill: #1967D2;\n",
              "      height: 32px;\n",
              "      padding: 0 0 0 0;\n",
              "      width: 32px;\n",
              "    }\n",
              "\n",
              "    .colab-df-convert:hover {\n",
              "      background-color: #E2EBFA;\n",
              "      box-shadow: 0px 1px 2px rgba(60, 64, 67, 0.3), 0px 1px 3px 1px rgba(60, 64, 67, 0.15);\n",
              "      fill: #174EA6;\n",
              "    }\n",
              "\n",
              "    .colab-df-buttons div {\n",
              "      margin-bottom: 4px;\n",
              "    }\n",
              "\n",
              "    [theme=dark] .colab-df-convert {\n",
              "      background-color: #3B4455;\n",
              "      fill: #D2E3FC;\n",
              "    }\n",
              "\n",
              "    [theme=dark] .colab-df-convert:hover {\n",
              "      background-color: #434B5C;\n",
              "      box-shadow: 0px 1px 3px 1px rgba(0, 0, 0, 0.15);\n",
              "      filter: drop-shadow(0px 1px 2px rgba(0, 0, 0, 0.3));\n",
              "      fill: #FFFFFF;\n",
              "    }\n",
              "  </style>\n",
              "\n",
              "    <script>\n",
              "      const buttonEl =\n",
              "        document.querySelector('#df-349d7c33-6d0a-4beb-ba4d-a82c1372ee8c button.colab-df-convert');\n",
              "      buttonEl.style.display =\n",
              "        google.colab.kernel.accessAllowed ? 'block' : 'none';\n",
              "\n",
              "      async function convertToInteractive(key) {\n",
              "        const element = document.querySelector('#df-349d7c33-6d0a-4beb-ba4d-a82c1372ee8c');\n",
              "        const dataTable =\n",
              "          await google.colab.kernel.invokeFunction('convertToInteractive',\n",
              "                                                    [key], {});\n",
              "        if (!dataTable) return;\n",
              "\n",
              "        const docLinkHtml = 'Like what you see? Visit the ' +\n",
              "          '<a target=\"_blank\" href=https://colab.research.google.com/notebooks/data_table.ipynb>data table notebook</a>'\n",
              "          + ' to learn more about interactive tables.';\n",
              "        element.innerHTML = '';\n",
              "        dataTable['output_type'] = 'display_data';\n",
              "        await google.colab.output.renderOutput(dataTable, element);\n",
              "        const docLink = document.createElement('div');\n",
              "        docLink.innerHTML = docLinkHtml;\n",
              "        element.appendChild(docLink);\n",
              "      }\n",
              "    </script>\n",
              "  </div>\n",
              "\n",
              "\n",
              "<div id=\"df-db3d4ea3-9832-49e1-bf27-7bd6edb1fcf2\">\n",
              "  <button class=\"colab-df-quickchart\" onclick=\"quickchart('df-db3d4ea3-9832-49e1-bf27-7bd6edb1fcf2')\"\n",
              "            title=\"Suggest charts.\"\n",
              "            style=\"display:none;\">\n",
              "\n",
              "<svg xmlns=\"http://www.w3.org/2000/svg\" height=\"24px\"viewBox=\"0 0 24 24\"\n",
              "     width=\"24px\">\n",
              "    <g>\n",
              "        <path d=\"M19 3H5c-1.1 0-2 .9-2 2v14c0 1.1.9 2 2 2h14c1.1 0 2-.9 2-2V5c0-1.1-.9-2-2-2zM9 17H7v-7h2v7zm4 0h-2V7h2v10zm4 0h-2v-4h2v4z\"/>\n",
              "    </g>\n",
              "</svg>\n",
              "  </button>\n",
              "\n",
              "<style>\n",
              "  .colab-df-quickchart {\n",
              "      --bg-color: #E8F0FE;\n",
              "      --fill-color: #1967D2;\n",
              "      --hover-bg-color: #E2EBFA;\n",
              "      --hover-fill-color: #174EA6;\n",
              "      --disabled-fill-color: #AAA;\n",
              "      --disabled-bg-color: #DDD;\n",
              "  }\n",
              "\n",
              "  [theme=dark] .colab-df-quickchart {\n",
              "      --bg-color: #3B4455;\n",
              "      --fill-color: #D2E3FC;\n",
              "      --hover-bg-color: #434B5C;\n",
              "      --hover-fill-color: #FFFFFF;\n",
              "      --disabled-bg-color: #3B4455;\n",
              "      --disabled-fill-color: #666;\n",
              "  }\n",
              "\n",
              "  .colab-df-quickchart {\n",
              "    background-color: var(--bg-color);\n",
              "    border: none;\n",
              "    border-radius: 50%;\n",
              "    cursor: pointer;\n",
              "    display: none;\n",
              "    fill: var(--fill-color);\n",
              "    height: 32px;\n",
              "    padding: 0;\n",
              "    width: 32px;\n",
              "  }\n",
              "\n",
              "  .colab-df-quickchart:hover {\n",
              "    background-color: var(--hover-bg-color);\n",
              "    box-shadow: 0 1px 2px rgba(60, 64, 67, 0.3), 0 1px 3px 1px rgba(60, 64, 67, 0.15);\n",
              "    fill: var(--button-hover-fill-color);\n",
              "  }\n",
              "\n",
              "  .colab-df-quickchart-complete:disabled,\n",
              "  .colab-df-quickchart-complete:disabled:hover {\n",
              "    background-color: var(--disabled-bg-color);\n",
              "    fill: var(--disabled-fill-color);\n",
              "    box-shadow: none;\n",
              "  }\n",
              "\n",
              "  .colab-df-spinner {\n",
              "    border: 2px solid var(--fill-color);\n",
              "    border-color: transparent;\n",
              "    border-bottom-color: var(--fill-color);\n",
              "    animation:\n",
              "      spin 1s steps(1) infinite;\n",
              "  }\n",
              "\n",
              "  @keyframes spin {\n",
              "    0% {\n",
              "      border-color: transparent;\n",
              "      border-bottom-color: var(--fill-color);\n",
              "      border-left-color: var(--fill-color);\n",
              "    }\n",
              "    20% {\n",
              "      border-color: transparent;\n",
              "      border-left-color: var(--fill-color);\n",
              "      border-top-color: var(--fill-color);\n",
              "    }\n",
              "    30% {\n",
              "      border-color: transparent;\n",
              "      border-left-color: var(--fill-color);\n",
              "      border-top-color: var(--fill-color);\n",
              "      border-right-color: var(--fill-color);\n",
              "    }\n",
              "    40% {\n",
              "      border-color: transparent;\n",
              "      border-right-color: var(--fill-color);\n",
              "      border-top-color: var(--fill-color);\n",
              "    }\n",
              "    60% {\n",
              "      border-color: transparent;\n",
              "      border-right-color: var(--fill-color);\n",
              "    }\n",
              "    80% {\n",
              "      border-color: transparent;\n",
              "      border-right-color: var(--fill-color);\n",
              "      border-bottom-color: var(--fill-color);\n",
              "    }\n",
              "    90% {\n",
              "      border-color: transparent;\n",
              "      border-bottom-color: var(--fill-color);\n",
              "    }\n",
              "  }\n",
              "</style>\n",
              "\n",
              "  <script>\n",
              "    async function quickchart(key) {\n",
              "      const quickchartButtonEl =\n",
              "        document.querySelector('#' + key + ' button');\n",
              "      quickchartButtonEl.disabled = true;  // To prevent multiple clicks.\n",
              "      quickchartButtonEl.classList.add('colab-df-spinner');\n",
              "      try {\n",
              "        const charts = await google.colab.kernel.invokeFunction(\n",
              "            'suggestCharts', [key], {});\n",
              "      } catch (error) {\n",
              "        console.error('Error during call to suggestCharts:', error);\n",
              "      }\n",
              "      quickchartButtonEl.classList.remove('colab-df-spinner');\n",
              "      quickchartButtonEl.classList.add('colab-df-quickchart-complete');\n",
              "    }\n",
              "    (() => {\n",
              "      let quickchartButtonEl =\n",
              "        document.querySelector('#df-db3d4ea3-9832-49e1-bf27-7bd6edb1fcf2 button');\n",
              "      quickchartButtonEl.style.display =\n",
              "        google.colab.kernel.accessAllowed ? 'block' : 'none';\n",
              "    })();\n",
              "  </script>\n",
              "</div>\n",
              "    </div>\n",
              "  </div>\n"
            ]
          },
          "metadata": {},
          "execution_count": 64
        }
      ],
      "source": [
        "df.describe(include='all')"
      ]
    },
    {
      "cell_type": "markdown",
      "metadata": {
        "id": "Lc_ghdS4Uz0z"
      },
      "source": [
        "Note that count refers to the number of non-missing values for each attribute."
      ]
    },
    {
      "cell_type": "markdown",
      "metadata": {
        "id": "a52bcbZfUz0z"
      },
      "source": [
        "> k. For multivariate statistics, you can compute the covariance and correlation between pairs of attributes.\n",
        "\n",
        "**<font color=\"red\"></font>**"
      ]
    },
    {
      "cell_type": "code",
      "execution_count": 65,
      "metadata": {
        "id": "ZUNlRgu1Uz0z",
        "colab": {
          "base_uri": "https://localhost:8080/",
          "height": 184
        },
        "outputId": "ef30f7e4-c043-49a3-9970-0f766751c257"
      },
      "outputs": [
        {
          "output_type": "stream",
          "name": "stdout",
          "text": [
            "Covariance:\n"
          ]
        },
        {
          "output_type": "stream",
          "name": "stderr",
          "text": [
            "<ipython-input-65-02b9d7d3d7a3>:2: FutureWarning: The default value of numeric_only in DataFrame.cov is deprecated. In a future version, it will default to False. Select only valid columns or specify the value of numeric_only to silence this warning.\n",
            "  df.cov()\n"
          ]
        },
        {
          "output_type": "execute_result",
          "data": {
            "text/plain": [
              "              Mileage         Price\n",
              "Mileage  1.098695e+09 -2.188586e+08\n",
              "Price   -2.188586e+08  2.657016e+08"
            ],
            "text/html": [
              "\n",
              "  <div id=\"df-c8906d9d-d8ab-4808-86ec-294623029e98\" class=\"colab-df-container\">\n",
              "    <div>\n",
              "<style scoped>\n",
              "    .dataframe tbody tr th:only-of-type {\n",
              "        vertical-align: middle;\n",
              "    }\n",
              "\n",
              "    .dataframe tbody tr th {\n",
              "        vertical-align: top;\n",
              "    }\n",
              "\n",
              "    .dataframe thead th {\n",
              "        text-align: right;\n",
              "    }\n",
              "</style>\n",
              "<table border=\"1\" class=\"dataframe\">\n",
              "  <thead>\n",
              "    <tr style=\"text-align: right;\">\n",
              "      <th></th>\n",
              "      <th>Mileage</th>\n",
              "      <th>Price</th>\n",
              "    </tr>\n",
              "  </thead>\n",
              "  <tbody>\n",
              "    <tr>\n",
              "      <th>Mileage</th>\n",
              "      <td>1.098695e+09</td>\n",
              "      <td>-2.188586e+08</td>\n",
              "    </tr>\n",
              "    <tr>\n",
              "      <th>Price</th>\n",
              "      <td>-2.188586e+08</td>\n",
              "      <td>2.657016e+08</td>\n",
              "    </tr>\n",
              "  </tbody>\n",
              "</table>\n",
              "</div>\n",
              "    <div class=\"colab-df-buttons\">\n",
              "\n",
              "  <div class=\"colab-df-container\">\n",
              "    <button class=\"colab-df-convert\" onclick=\"convertToInteractive('df-c8906d9d-d8ab-4808-86ec-294623029e98')\"\n",
              "            title=\"Convert this dataframe to an interactive table.\"\n",
              "            style=\"display:none;\">\n",
              "\n",
              "  <svg xmlns=\"http://www.w3.org/2000/svg\" height=\"24px\" viewBox=\"0 -960 960 960\">\n",
              "    <path d=\"M120-120v-720h720v720H120Zm60-500h600v-160H180v160Zm220 220h160v-160H400v160Zm0 220h160v-160H400v160ZM180-400h160v-160H180v160Zm440 0h160v-160H620v160ZM180-180h160v-160H180v160Zm440 0h160v-160H620v160Z\"/>\n",
              "  </svg>\n",
              "    </button>\n",
              "\n",
              "  <style>\n",
              "    .colab-df-container {\n",
              "      display:flex;\n",
              "      gap: 12px;\n",
              "    }\n",
              "\n",
              "    .colab-df-convert {\n",
              "      background-color: #E8F0FE;\n",
              "      border: none;\n",
              "      border-radius: 50%;\n",
              "      cursor: pointer;\n",
              "      display: none;\n",
              "      fill: #1967D2;\n",
              "      height: 32px;\n",
              "      padding: 0 0 0 0;\n",
              "      width: 32px;\n",
              "    }\n",
              "\n",
              "    .colab-df-convert:hover {\n",
              "      background-color: #E2EBFA;\n",
              "      box-shadow: 0px 1px 2px rgba(60, 64, 67, 0.3), 0px 1px 3px 1px rgba(60, 64, 67, 0.15);\n",
              "      fill: #174EA6;\n",
              "    }\n",
              "\n",
              "    .colab-df-buttons div {\n",
              "      margin-bottom: 4px;\n",
              "    }\n",
              "\n",
              "    [theme=dark] .colab-df-convert {\n",
              "      background-color: #3B4455;\n",
              "      fill: #D2E3FC;\n",
              "    }\n",
              "\n",
              "    [theme=dark] .colab-df-convert:hover {\n",
              "      background-color: #434B5C;\n",
              "      box-shadow: 0px 1px 3px 1px rgba(0, 0, 0, 0.15);\n",
              "      filter: drop-shadow(0px 1px 2px rgba(0, 0, 0, 0.3));\n",
              "      fill: #FFFFFF;\n",
              "    }\n",
              "  </style>\n",
              "\n",
              "    <script>\n",
              "      const buttonEl =\n",
              "        document.querySelector('#df-c8906d9d-d8ab-4808-86ec-294623029e98 button.colab-df-convert');\n",
              "      buttonEl.style.display =\n",
              "        google.colab.kernel.accessAllowed ? 'block' : 'none';\n",
              "\n",
              "      async function convertToInteractive(key) {\n",
              "        const element = document.querySelector('#df-c8906d9d-d8ab-4808-86ec-294623029e98');\n",
              "        const dataTable =\n",
              "          await google.colab.kernel.invokeFunction('convertToInteractive',\n",
              "                                                    [key], {});\n",
              "        if (!dataTable) return;\n",
              "\n",
              "        const docLinkHtml = 'Like what you see? Visit the ' +\n",
              "          '<a target=\"_blank\" href=https://colab.research.google.com/notebooks/data_table.ipynb>data table notebook</a>'\n",
              "          + ' to learn more about interactive tables.';\n",
              "        element.innerHTML = '';\n",
              "        dataTable['output_type'] = 'display_data';\n",
              "        await google.colab.output.renderOutput(dataTable, element);\n",
              "        const docLink = document.createElement('div');\n",
              "        docLink.innerHTML = docLinkHtml;\n",
              "        element.appendChild(docLink);\n",
              "      }\n",
              "    </script>\n",
              "  </div>\n",
              "\n",
              "\n",
              "<div id=\"df-1bc584b0-8e88-44f6-88f3-71bb56f723ff\">\n",
              "  <button class=\"colab-df-quickchart\" onclick=\"quickchart('df-1bc584b0-8e88-44f6-88f3-71bb56f723ff')\"\n",
              "            title=\"Suggest charts.\"\n",
              "            style=\"display:none;\">\n",
              "\n",
              "<svg xmlns=\"http://www.w3.org/2000/svg\" height=\"24px\"viewBox=\"0 0 24 24\"\n",
              "     width=\"24px\">\n",
              "    <g>\n",
              "        <path d=\"M19 3H5c-1.1 0-2 .9-2 2v14c0 1.1.9 2 2 2h14c1.1 0 2-.9 2-2V5c0-1.1-.9-2-2-2zM9 17H7v-7h2v7zm4 0h-2V7h2v10zm4 0h-2v-4h2v4z\"/>\n",
              "    </g>\n",
              "</svg>\n",
              "  </button>\n",
              "\n",
              "<style>\n",
              "  .colab-df-quickchart {\n",
              "      --bg-color: #E8F0FE;\n",
              "      --fill-color: #1967D2;\n",
              "      --hover-bg-color: #E2EBFA;\n",
              "      --hover-fill-color: #174EA6;\n",
              "      --disabled-fill-color: #AAA;\n",
              "      --disabled-bg-color: #DDD;\n",
              "  }\n",
              "\n",
              "  [theme=dark] .colab-df-quickchart {\n",
              "      --bg-color: #3B4455;\n",
              "      --fill-color: #D2E3FC;\n",
              "      --hover-bg-color: #434B5C;\n",
              "      --hover-fill-color: #FFFFFF;\n",
              "      --disabled-bg-color: #3B4455;\n",
              "      --disabled-fill-color: #666;\n",
              "  }\n",
              "\n",
              "  .colab-df-quickchart {\n",
              "    background-color: var(--bg-color);\n",
              "    border: none;\n",
              "    border-radius: 50%;\n",
              "    cursor: pointer;\n",
              "    display: none;\n",
              "    fill: var(--fill-color);\n",
              "    height: 32px;\n",
              "    padding: 0;\n",
              "    width: 32px;\n",
              "  }\n",
              "\n",
              "  .colab-df-quickchart:hover {\n",
              "    background-color: var(--hover-bg-color);\n",
              "    box-shadow: 0 1px 2px rgba(60, 64, 67, 0.3), 0 1px 3px 1px rgba(60, 64, 67, 0.15);\n",
              "    fill: var(--button-hover-fill-color);\n",
              "  }\n",
              "\n",
              "  .colab-df-quickchart-complete:disabled,\n",
              "  .colab-df-quickchart-complete:disabled:hover {\n",
              "    background-color: var(--disabled-bg-color);\n",
              "    fill: var(--disabled-fill-color);\n",
              "    box-shadow: none;\n",
              "  }\n",
              "\n",
              "  .colab-df-spinner {\n",
              "    border: 2px solid var(--fill-color);\n",
              "    border-color: transparent;\n",
              "    border-bottom-color: var(--fill-color);\n",
              "    animation:\n",
              "      spin 1s steps(1) infinite;\n",
              "  }\n",
              "\n",
              "  @keyframes spin {\n",
              "    0% {\n",
              "      border-color: transparent;\n",
              "      border-bottom-color: var(--fill-color);\n",
              "      border-left-color: var(--fill-color);\n",
              "    }\n",
              "    20% {\n",
              "      border-color: transparent;\n",
              "      border-left-color: var(--fill-color);\n",
              "      border-top-color: var(--fill-color);\n",
              "    }\n",
              "    30% {\n",
              "      border-color: transparent;\n",
              "      border-left-color: var(--fill-color);\n",
              "      border-top-color: var(--fill-color);\n",
              "      border-right-color: var(--fill-color);\n",
              "    }\n",
              "    40% {\n",
              "      border-color: transparent;\n",
              "      border-right-color: var(--fill-color);\n",
              "      border-top-color: var(--fill-color);\n",
              "    }\n",
              "    60% {\n",
              "      border-color: transparent;\n",
              "      border-right-color: var(--fill-color);\n",
              "    }\n",
              "    80% {\n",
              "      border-color: transparent;\n",
              "      border-right-color: var(--fill-color);\n",
              "      border-bottom-color: var(--fill-color);\n",
              "    }\n",
              "    90% {\n",
              "      border-color: transparent;\n",
              "      border-bottom-color: var(--fill-color);\n",
              "    }\n",
              "  }\n",
              "</style>\n",
              "\n",
              "  <script>\n",
              "    async function quickchart(key) {\n",
              "      const quickchartButtonEl =\n",
              "        document.querySelector('#' + key + ' button');\n",
              "      quickchartButtonEl.disabled = true;  // To prevent multiple clicks.\n",
              "      quickchartButtonEl.classList.add('colab-df-spinner');\n",
              "      try {\n",
              "        const charts = await google.colab.kernel.invokeFunction(\n",
              "            'suggestCharts', [key], {});\n",
              "      } catch (error) {\n",
              "        console.error('Error during call to suggestCharts:', error);\n",
              "      }\n",
              "      quickchartButtonEl.classList.remove('colab-df-spinner');\n",
              "      quickchartButtonEl.classList.add('colab-df-quickchart-complete');\n",
              "    }\n",
              "    (() => {\n",
              "      let quickchartButtonEl =\n",
              "        document.querySelector('#df-1bc584b0-8e88-44f6-88f3-71bb56f723ff button');\n",
              "      quickchartButtonEl.style.display =\n",
              "        google.colab.kernel.accessAllowed ? 'block' : 'none';\n",
              "    })();\n",
              "  </script>\n",
              "</div>\n",
              "    </div>\n",
              "  </div>\n"
            ]
          },
          "metadata": {},
          "execution_count": 65
        }
      ],
      "source": [
        "print('Covariance:')\n",
        "df.cov()"
      ]
    },
    {
      "cell_type": "code",
      "execution_count": 66,
      "metadata": {
        "id": "UPNdODI_Uz0z",
        "colab": {
          "base_uri": "https://localhost:8080/",
          "height": 184
        },
        "outputId": "aea5e3ad-3fc5-4ddf-cfb2-ff32cc772e5b"
      },
      "outputs": [
        {
          "output_type": "stream",
          "name": "stdout",
          "text": [
            "Correlation:\n"
          ]
        },
        {
          "output_type": "stream",
          "name": "stderr",
          "text": [
            "<ipython-input-66-e17fa980df8b>:2: FutureWarning: The default value of numeric_only in DataFrame.corr is deprecated. In a future version, it will default to False. Select only valid columns or specify the value of numeric_only to silence this warning.\n",
            "  df.corr()\n"
          ]
        },
        {
          "output_type": "execute_result",
          "data": {
            "text/plain": [
              "          Mileage     Price\n",
              "Mileage  1.000000 -0.405068\n",
              "Price   -0.405068  1.000000"
            ],
            "text/html": [
              "\n",
              "  <div id=\"df-aac0436b-854e-41fd-b6af-8a0e6fad7ae0\" class=\"colab-df-container\">\n",
              "    <div>\n",
              "<style scoped>\n",
              "    .dataframe tbody tr th:only-of-type {\n",
              "        vertical-align: middle;\n",
              "    }\n",
              "\n",
              "    .dataframe tbody tr th {\n",
              "        vertical-align: top;\n",
              "    }\n",
              "\n",
              "    .dataframe thead th {\n",
              "        text-align: right;\n",
              "    }\n",
              "</style>\n",
              "<table border=\"1\" class=\"dataframe\">\n",
              "  <thead>\n",
              "    <tr style=\"text-align: right;\">\n",
              "      <th></th>\n",
              "      <th>Mileage</th>\n",
              "      <th>Price</th>\n",
              "    </tr>\n",
              "  </thead>\n",
              "  <tbody>\n",
              "    <tr>\n",
              "      <th>Mileage</th>\n",
              "      <td>1.000000</td>\n",
              "      <td>-0.405068</td>\n",
              "    </tr>\n",
              "    <tr>\n",
              "      <th>Price</th>\n",
              "      <td>-0.405068</td>\n",
              "      <td>1.000000</td>\n",
              "    </tr>\n",
              "  </tbody>\n",
              "</table>\n",
              "</div>\n",
              "    <div class=\"colab-df-buttons\">\n",
              "\n",
              "  <div class=\"colab-df-container\">\n",
              "    <button class=\"colab-df-convert\" onclick=\"convertToInteractive('df-aac0436b-854e-41fd-b6af-8a0e6fad7ae0')\"\n",
              "            title=\"Convert this dataframe to an interactive table.\"\n",
              "            style=\"display:none;\">\n",
              "\n",
              "  <svg xmlns=\"http://www.w3.org/2000/svg\" height=\"24px\" viewBox=\"0 -960 960 960\">\n",
              "    <path d=\"M120-120v-720h720v720H120Zm60-500h600v-160H180v160Zm220 220h160v-160H400v160Zm0 220h160v-160H400v160ZM180-400h160v-160H180v160Zm440 0h160v-160H620v160ZM180-180h160v-160H180v160Zm440 0h160v-160H620v160Z\"/>\n",
              "  </svg>\n",
              "    </button>\n",
              "\n",
              "  <style>\n",
              "    .colab-df-container {\n",
              "      display:flex;\n",
              "      gap: 12px;\n",
              "    }\n",
              "\n",
              "    .colab-df-convert {\n",
              "      background-color: #E8F0FE;\n",
              "      border: none;\n",
              "      border-radius: 50%;\n",
              "      cursor: pointer;\n",
              "      display: none;\n",
              "      fill: #1967D2;\n",
              "      height: 32px;\n",
              "      padding: 0 0 0 0;\n",
              "      width: 32px;\n",
              "    }\n",
              "\n",
              "    .colab-df-convert:hover {\n",
              "      background-color: #E2EBFA;\n",
              "      box-shadow: 0px 1px 2px rgba(60, 64, 67, 0.3), 0px 1px 3px 1px rgba(60, 64, 67, 0.15);\n",
              "      fill: #174EA6;\n",
              "    }\n",
              "\n",
              "    .colab-df-buttons div {\n",
              "      margin-bottom: 4px;\n",
              "    }\n",
              "\n",
              "    [theme=dark] .colab-df-convert {\n",
              "      background-color: #3B4455;\n",
              "      fill: #D2E3FC;\n",
              "    }\n",
              "\n",
              "    [theme=dark] .colab-df-convert:hover {\n",
              "      background-color: #434B5C;\n",
              "      box-shadow: 0px 1px 3px 1px rgba(0, 0, 0, 0.15);\n",
              "      filter: drop-shadow(0px 1px 2px rgba(0, 0, 0, 0.3));\n",
              "      fill: #FFFFFF;\n",
              "    }\n",
              "  </style>\n",
              "\n",
              "    <script>\n",
              "      const buttonEl =\n",
              "        document.querySelector('#df-aac0436b-854e-41fd-b6af-8a0e6fad7ae0 button.colab-df-convert');\n",
              "      buttonEl.style.display =\n",
              "        google.colab.kernel.accessAllowed ? 'block' : 'none';\n",
              "\n",
              "      async function convertToInteractive(key) {\n",
              "        const element = document.querySelector('#df-aac0436b-854e-41fd-b6af-8a0e6fad7ae0');\n",
              "        const dataTable =\n",
              "          await google.colab.kernel.invokeFunction('convertToInteractive',\n",
              "                                                    [key], {});\n",
              "        if (!dataTable) return;\n",
              "\n",
              "        const docLinkHtml = 'Like what you see? Visit the ' +\n",
              "          '<a target=\"_blank\" href=https://colab.research.google.com/notebooks/data_table.ipynb>data table notebook</a>'\n",
              "          + ' to learn more about interactive tables.';\n",
              "        element.innerHTML = '';\n",
              "        dataTable['output_type'] = 'display_data';\n",
              "        await google.colab.output.renderOutput(dataTable, element);\n",
              "        const docLink = document.createElement('div');\n",
              "        docLink.innerHTML = docLinkHtml;\n",
              "        element.appendChild(docLink);\n",
              "      }\n",
              "    </script>\n",
              "  </div>\n",
              "\n",
              "\n",
              "<div id=\"df-61eb058f-7436-4037-9a35-d0f7f7e885da\">\n",
              "  <button class=\"colab-df-quickchart\" onclick=\"quickchart('df-61eb058f-7436-4037-9a35-d0f7f7e885da')\"\n",
              "            title=\"Suggest charts.\"\n",
              "            style=\"display:none;\">\n",
              "\n",
              "<svg xmlns=\"http://www.w3.org/2000/svg\" height=\"24px\"viewBox=\"0 0 24 24\"\n",
              "     width=\"24px\">\n",
              "    <g>\n",
              "        <path d=\"M19 3H5c-1.1 0-2 .9-2 2v14c0 1.1.9 2 2 2h14c1.1 0 2-.9 2-2V5c0-1.1-.9-2-2-2zM9 17H7v-7h2v7zm4 0h-2V7h2v10zm4 0h-2v-4h2v4z\"/>\n",
              "    </g>\n",
              "</svg>\n",
              "  </button>\n",
              "\n",
              "<style>\n",
              "  .colab-df-quickchart {\n",
              "      --bg-color: #E8F0FE;\n",
              "      --fill-color: #1967D2;\n",
              "      --hover-bg-color: #E2EBFA;\n",
              "      --hover-fill-color: #174EA6;\n",
              "      --disabled-fill-color: #AAA;\n",
              "      --disabled-bg-color: #DDD;\n",
              "  }\n",
              "\n",
              "  [theme=dark] .colab-df-quickchart {\n",
              "      --bg-color: #3B4455;\n",
              "      --fill-color: #D2E3FC;\n",
              "      --hover-bg-color: #434B5C;\n",
              "      --hover-fill-color: #FFFFFF;\n",
              "      --disabled-bg-color: #3B4455;\n",
              "      --disabled-fill-color: #666;\n",
              "  }\n",
              "\n",
              "  .colab-df-quickchart {\n",
              "    background-color: var(--bg-color);\n",
              "    border: none;\n",
              "    border-radius: 50%;\n",
              "    cursor: pointer;\n",
              "    display: none;\n",
              "    fill: var(--fill-color);\n",
              "    height: 32px;\n",
              "    padding: 0;\n",
              "    width: 32px;\n",
              "  }\n",
              "\n",
              "  .colab-df-quickchart:hover {\n",
              "    background-color: var(--hover-bg-color);\n",
              "    box-shadow: 0 1px 2px rgba(60, 64, 67, 0.3), 0 1px 3px 1px rgba(60, 64, 67, 0.15);\n",
              "    fill: var(--button-hover-fill-color);\n",
              "  }\n",
              "\n",
              "  .colab-df-quickchart-complete:disabled,\n",
              "  .colab-df-quickchart-complete:disabled:hover {\n",
              "    background-color: var(--disabled-bg-color);\n",
              "    fill: var(--disabled-fill-color);\n",
              "    box-shadow: none;\n",
              "  }\n",
              "\n",
              "  .colab-df-spinner {\n",
              "    border: 2px solid var(--fill-color);\n",
              "    border-color: transparent;\n",
              "    border-bottom-color: var(--fill-color);\n",
              "    animation:\n",
              "      spin 1s steps(1) infinite;\n",
              "  }\n",
              "\n",
              "  @keyframes spin {\n",
              "    0% {\n",
              "      border-color: transparent;\n",
              "      border-bottom-color: var(--fill-color);\n",
              "      border-left-color: var(--fill-color);\n",
              "    }\n",
              "    20% {\n",
              "      border-color: transparent;\n",
              "      border-left-color: var(--fill-color);\n",
              "      border-top-color: var(--fill-color);\n",
              "    }\n",
              "    30% {\n",
              "      border-color: transparent;\n",
              "      border-left-color: var(--fill-color);\n",
              "      border-top-color: var(--fill-color);\n",
              "      border-right-color: var(--fill-color);\n",
              "    }\n",
              "    40% {\n",
              "      border-color: transparent;\n",
              "      border-right-color: var(--fill-color);\n",
              "      border-top-color: var(--fill-color);\n",
              "    }\n",
              "    60% {\n",
              "      border-color: transparent;\n",
              "      border-right-color: var(--fill-color);\n",
              "    }\n",
              "    80% {\n",
              "      border-color: transparent;\n",
              "      border-right-color: var(--fill-color);\n",
              "      border-bottom-color: var(--fill-color);\n",
              "    }\n",
              "    90% {\n",
              "      border-color: transparent;\n",
              "      border-bottom-color: var(--fill-color);\n",
              "    }\n",
              "  }\n",
              "</style>\n",
              "\n",
              "  <script>\n",
              "    async function quickchart(key) {\n",
              "      const quickchartButtonEl =\n",
              "        document.querySelector('#' + key + ' button');\n",
              "      quickchartButtonEl.disabled = true;  // To prevent multiple clicks.\n",
              "      quickchartButtonEl.classList.add('colab-df-spinner');\n",
              "      try {\n",
              "        const charts = await google.colab.kernel.invokeFunction(\n",
              "            'suggestCharts', [key], {});\n",
              "      } catch (error) {\n",
              "        console.error('Error during call to suggestCharts:', error);\n",
              "      }\n",
              "      quickchartButtonEl.classList.remove('colab-df-spinner');\n",
              "      quickchartButtonEl.classList.add('colab-df-quickchart-complete');\n",
              "    }\n",
              "    (() => {\n",
              "      let quickchartButtonEl =\n",
              "        document.querySelector('#df-61eb058f-7436-4037-9a35-d0f7f7e885da button');\n",
              "      quickchartButtonEl.style.display =\n",
              "        google.colab.kernel.accessAllowed ? 'block' : 'none';\n",
              "    })();\n",
              "  </script>\n",
              "</div>\n",
              "    </div>\n",
              "  </div>\n"
            ]
          },
          "metadata": {},
          "execution_count": 66
        }
      ],
      "source": [
        "print('Correlation:')\n",
        "df.corr()"
      ]
    },
    {
      "cell_type": "markdown",
      "metadata": {
        "id": "FWoLpa4kld5u"
      },
      "source": [
        "---"
      ]
    },
    {
      "cell_type": "markdown",
      "metadata": {
        "id": "ZViWoH9Pk2g3"
      },
      "source": [
        "## 3. Basic data visualisation using Python\n"
      ]
    },
    {
      "cell_type": "markdown",
      "metadata": {
        "id": "cb-PD76bUz0z"
      },
      "source": [
        "Data visualization is the display of information in a graphic or tabular format. Successful visualization requires that the data (information) be converted into a visual format so that the characteristics of the data and the relationships among data items or attributes can be analyzed or reported.\n"
      ]
    },
    {
      "cell_type": "markdown",
      "metadata": {
        "id": "4qO-FFv-Uz0z"
      },
      "source": [
        "---\n",
        "> To display the histogram for the milieage attribute by discretizing it into 8 separate bins and counting the frequency for each bin, run this code:\n",
        "\n",
        "**<font color=\"red\"></font>**"
      ]
    },
    {
      "cell_type": "code",
      "execution_count": null,
      "metadata": {
        "id": "xLKkRDEQUz00"
      },
      "outputs": [],
      "source": [
        "%matplotlib inline\n",
        "\n",
        "df['Mileage'].hist(bins=8)"
      ]
    },
    {
      "cell_type": "markdown",
      "metadata": {
        "id": "NYtWuzZIUz00"
      },
      "source": [
        "> A boxplot can also be used to show the distribution of values for each attribute.\n",
        "\n",
        "**<font color=\"red\"></font>**"
      ]
    },
    {
      "cell_type": "code",
      "execution_count": null,
      "metadata": {
        "id": "_aZxbtLoUz00"
      },
      "outputs": [],
      "source": [
        "df.boxplot()"
      ]
    },
    {
      "cell_type": "markdown",
      "metadata": {
        "id": "OfPO0C_1Uz00"
      },
      "source": [
        "> We can finally plot pairwise relationships in a dataset by running the code below. By default, this function will create a grid of axes such that each numeric variable in our dataset will be shared across the y-axes across a single row and the x-axes across a single column. In the diagonal plots, a univariate distribution plot is drawn to show the marginal distribution of the data in each column. Here scatterplot() is used for each pairing of the variables and histplot() for the marginal plots along the diagonal.\n",
        "\n",
        "**<font color=\"red\"></font>**"
      ]
    },
    {
      "cell_type": "code",
      "execution_count": null,
      "metadata": {
        "id": "h9MF9IA2mBAE"
      },
      "outputs": [],
      "source": [
        "import seaborn as sns\n",
        "import matplotlib.pyplot as plt\n",
        "sns.pairplot(df)"
      ]
    },
    {
      "cell_type": "markdown",
      "metadata": {
        "id": "Qn_a3nqYXH8N"
      },
      "source": [
        "---\n",
        "> **Q4:** Execute the command above and interpret what the plot is showing. In particular, describe the general trend between `mileage` and `price`, as well as `mileage` and `year`."
      ]
    },
    {
      "cell_type": "markdown",
      "metadata": {
        "id": "xztMxUgTl6Vx"
      },
      "source": [
        "> **A4:**\n",
        "---"
      ]
    }
  ],
  "metadata": {
    "colab": {
      "collapsed_sections": [
        "FYZv8R_TImsZ"
      ],
      "provenance": [],
      "include_colab_link": true
    },
    "kernelspec": {
      "display_name": "Python 3",
      "language": "python",
      "name": "python3"
    },
    "language_info": {
      "codemirror_mode": {
        "name": "ipython",
        "version": 3
      },
      "file_extension": ".py",
      "mimetype": "text/x-python",
      "name": "python",
      "nbconvert_exporter": "python",
      "pygments_lexer": "ipython3",
      "version": "3.8.5"
    }
  },
  "nbformat": 4,
  "nbformat_minor": 0
}